{
 "cells": [
  {
   "cell_type": "markdown",
   "metadata": {},
   "source": [
    "# Edabit Solutions"
   ]
  },
  {
   "cell_type": "markdown",
   "metadata": {},
   "source": [
    "### Merge Lists in Order\n",
    "Given two lists, merge them to one list and sort the new list in the same order as the first list."
   ]
  },
  {
   "cell_type": "code",
   "execution_count": 1,
   "metadata": {},
   "outputs": [
    {
     "data": {
      "text/plain": [
       "[1, 2, 3, 4, 5, 6]"
      ]
     },
     "execution_count": 1,
     "metadata": {},
     "output_type": "execute_result"
    }
   ],
   "source": [
    "def merge_sort(lst1, lst2):\n",
    "    if lst1[0] > lst1[1]:\n",
    "        return sorted(lst1 + lst2, reverse=True)\n",
    "    else:\n",
    "        return sorted(lst1 + lst2)\n",
    "\n",
    "lst1 = [1, 2, 3]\n",
    "lst2= [5, 4, 6]\n",
    "merge_sort(lst1, lst2)"
   ]
  },
  {
   "cell_type": "markdown",
   "metadata": {},
   "source": [
    "### Burglary Series (03): Is It Gone?\n",
    "Your spouse is not concerned with the loss of material possessions but rather with his/her favorite pet. Is it gone?!\n",
    "\n",
    "Given a dictionary of the stolen items and a string in lower cases representing the name of the pet (e.g. \"rambo\"), return:\n",
    "\n",
    "\"Rambo is gone...\" if the name is on the list.\n",
    "\"Rambo is here!\" if the name is not on the list."
   ]
  },
  {
   "cell_type": "code",
   "execution_count": 2,
   "metadata": {},
   "outputs": [
    {
     "data": {
      "text/plain": [
       "'Rocky is here!'"
      ]
     },
     "execution_count": 2,
     "metadata": {},
     "output_type": "execute_result"
    }
   ],
   "source": [
    "def find_it(items, name):\n",
    "    if name in items.keys():\n",
    "        return '{} is gone...'.format(name.capitalize())\n",
    "    return '{} is here!'.format(name.capitalize())\n",
    "\n",
    "find_it({\"tv\": 30, \"stereo\": 50,}, \"rocky\")"
   ]
  },
  {
   "cell_type": "markdown",
   "metadata": {},
   "source": [
    "### Designing Rugs\n",
    "Write a function that accepts the width and height (m, n) and an optional proc s and generates a list with m elements."
   ]
  },
  {
   "cell_type": "code",
   "execution_count": 3,
   "metadata": {},
   "outputs": [
    {
     "data": {
      "text/plain": [
       "['$$$$$', '$$$$$', '$$$$$']"
      ]
     },
     "execution_count": 3,
     "metadata": {},
     "output_type": "execute_result"
    }
   ],
   "source": [
    "def make_rug(m, n, s='#'):\n",
    "    return [s * n] * m\n",
    "\n",
    "make_rug(3, 5, '$')"
   ]
  },
  {
   "cell_type": "markdown",
   "metadata": {},
   "source": [
    "### Operations\n",
    "Write a function that does the following things: adding, subtracting, dividing, or multiplying values. "
   ]
  },
  {
   "cell_type": "code",
   "execution_count": 4,
   "metadata": {},
   "outputs": [
    {
     "data": {
      "text/plain": [
       "'3'"
      ]
     },
     "execution_count": 4,
     "metadata": {},
     "output_type": "execute_result"
    }
   ],
   "source": [
    "def operation(a, b, op):\n",
    "    op_dict = {'add': '+', 'subtract':'-', 'multiply':'*', 'divide':'//'}\n",
    "    try:\n",
    "        return str(eval(a + op_dict[op] + b))\n",
    "    except:\n",
    "        return 'undefined'\n",
    "    \n",
    "operation(\"1\", \"2\", \"add\")"
   ]
  },
  {
   "cell_type": "markdown",
   "metadata": {},
   "source": [
    "### N-Length Letter Groups\n",
    "Write a function that returns a list of strings populated from the slices of n-length characters of the given word (a slice after another while n-length applies onto the word)."
   ]
  },
  {
   "cell_type": "code",
   "execution_count": 5,
   "metadata": {},
   "outputs": [
    {
     "data": {
      "text/plain": [
       "['ationa', 'interc', 'ntalis', 'ontine']"
      ]
     },
     "execution_count": 5,
     "metadata": {},
     "output_type": "execute_result"
    }
   ],
   "source": [
    "def collect(s, n):\n",
    "    slice_lst = []\n",
    "    for x in range(0, len(s) // n):\n",
    "        slice_lst.append(s[:n])\n",
    "        s = s[n:]\n",
    "    return sorted(slice_lst)\n",
    "\n",
    "collect(\"intercontinentalisationalism\", 6)"
   ]
  },
  {
   "cell_type": "markdown",
   "metadata": {},
   "source": [
    "## Syncopated Rhythm\n",
    "Syncopation means an emphasis on a weak beat of a bar of music; most commonly, beats 2 and 4 (and all other even-numbered beats if applicable).\n",
    "\n",
    "s is a line of music, represented as a string, where hashtags # represent emphasized beats. Create a function that returns if the line of music contains any syncopation."
   ]
  },
  {
   "cell_type": "code",
   "execution_count": 6,
   "metadata": {},
   "outputs": [
    {
     "data": {
      "text/plain": [
       "True"
      ]
     },
     "execution_count": 6,
     "metadata": {},
     "output_type": "execute_result"
    }
   ],
   "source": [
    "def has_syncopation(s):\n",
    "    return any([i % 2 == 1 and v == '#' for i, v in enumerate(s)])\n",
    "\n",
    "has_syncopation(\"#.#.###.\")"
   ]
  },
  {
   "cell_type": "markdown",
   "metadata": {},
   "source": [
    "### Meme Sum"
   ]
  },
  {
   "cell_type": "code",
   "execution_count": 7,
   "metadata": {},
   "outputs": [
    {
     "data": {
      "text/plain": [
       "31111013"
      ]
     },
     "execution_count": 7,
     "metadata": {},
     "output_type": "execute_result"
    }
   ],
   "source": [
    "def meme_sum(a, b):\n",
    "    a, b = str(a), str(b)\n",
    "    if len(a) > len(b):\n",
    "        b = '0' * (len(a) - len(b)) + b\n",
    "        zip_lst = list(zip(a, b))\n",
    "        return int(''.join([str(int(x[0]) + int(x[1])) for x in zip_lst]))\n",
    "    elif len(b) > len(a):\n",
    "        a = '0' * (len(b) - len(a)) + a\n",
    "        zip_lst = list(zip(a, b))\n",
    "        return int(''.join([str(int(x[0]) + int(x[1])) for x in zip_lst]))\n",
    "    else:\n",
    "        zip_lst = list(zip(a, b))\n",
    "        return int(''.join([str(int(x[0]) + int(x[1])) for x in zip_lst]))\n",
    "    \n",
    "meme_sum(1236, 30977)"
   ]
  },
  {
   "cell_type": "markdown",
   "metadata": {},
   "source": [
    "## Splitting Up Numbers\n",
    "Create a function that takes a number num and returns each place value in the number."
   ]
  },
  {
   "cell_type": "code",
   "execution_count": 8,
   "metadata": {},
   "outputs": [
    {
     "data": {
      "text/plain": [
       "[-400, -30, -4]"
      ]
     },
     "execution_count": 8,
     "metadata": {},
     "output_type": "execute_result"
    }
   ],
   "source": [
    "def num_split(num):\n",
    "    num_str = str(num)\n",
    "    num_lst = []\n",
    "    if num_str[0] == '-':\n",
    "        for x in range(1, len(num_str)):\n",
    "            num_lst.append('-' + num_str[x] + '0' * len(num_str[x+1:]))\n",
    "    else:\n",
    "        for x in range(0, len(num_str)):\n",
    "            num_lst.append(num_str[x] + '0' * len(num_str[x+1:]))\n",
    "\n",
    "    return [int(x) for x in num_lst]\n",
    "\n",
    "num_split(-434)"
   ]
  },
  {
   "cell_type": "markdown",
   "metadata": {},
   "source": [
    "### Modify Words\n",
    "Create a function that takes a list of any length. Modify each element (capitalize, reverse, hyphenate)."
   ]
  },
  {
   "cell_type": "code",
   "execution_count": 9,
   "metadata": {},
   "outputs": [
    {
     "data": {
      "text/plain": [
       "['OLL-EH', '-', 'DLR-OW']"
      ]
     },
     "execution_count": 9,
     "metadata": {},
     "output_type": "execute_result"
    }
   ],
   "source": [
    "def edit_words(lst):\n",
    "    word_lst = [x[::-1].upper() for x in lst]\n",
    "    return [x[:(len(x) // 2)] + '-' + x[(len(x) // 2):] if len(x) % 2 == 0 else x[:(len(x) // 2)+1] + '-' + x[(len(x) // 2)+1:] for x in word_lst]\n",
    "\n",
    "edit_words([\"hello\", \"\", \"world\"])"
   ]
  },
  {
   "cell_type": "markdown",
   "metadata": {},
   "source": [
    "## RegEx VIII-A: Digit Character Class\n",
    "Write the regular expression that matches all street addresses"
   ]
  },
  {
   "cell_type": "code",
   "execution_count": 10,
   "metadata": {},
   "outputs": [],
   "source": [
    "pattern = \"\\d+\\s\\w+\\s\\w+\\.\""
   ]
  },
  {
   "cell_type": "markdown",
   "metadata": {},
   "source": [
    "### YouTube Upload Count"
   ]
  },
  {
   "cell_type": "code",
   "execution_count": 11,
   "metadata": {},
   "outputs": [
    {
     "data": {
      "text/plain": [
       "79"
      ]
     },
     "execution_count": 11,
     "metadata": {},
     "output_type": "execute_result"
    }
   ],
   "source": [
    "import re\n",
    "from collections import Counter\n",
    "\n",
    "def upload_count(dates, month):\n",
    "    dates_dict = Counter([re.findall(r'\\w{3,4}', x)[0] for x in dates])\n",
    "    return dates_dict[month]\n",
    "\n",
    "upload_count(['Dec 10', 'Dec 10', 'Dec 9', 'Dec 9', 'Dec 9', 'Dec 8', 'Dec 8', 'Dec 8', 'Dec 8', 'Dec 8', 'Dec 8', 'Dec 8', 'Dec 8', 'Dec 7', 'Dec 7', 'Dec 7', 'Dec 7', 'Dec 7', 'Dec 5', 'Dec 5', 'Dec 5', 'Dec 4', 'Dec 4', 'Dec 4', 'Dec 4', 'Dec 4', 'Dec 3', 'Dec 3', 'Dec 3', 'Dec 2', 'Dec 2', 'Dec 2', 'Dec 1', 'Dec 1', 'Dec 1', 'Dec 1','Nov 30', 'Nov 30', 'Nov 28', 'Nov 28', 'Nov 27', 'Nov 27', 'Nov 27', 'Nov 26', 'Nov 26', 'Nov 25', 'Nov 25', 'Nov 25', 'Nov 25', 'Nov 24', 'Nov 24', 'Nov 23', 'Nov 23', 'Nov 23', 'Nov 21', 'Nov 21', 'Nov 20', 'Nov 20', 'Nov 20', 'Nov 19', 'Nov 19', 'Nov 19', 'Nov 18', 'Nov 18', 'Nov 17', 'Nov 17', 'Nov 17', 'Nov 16', 'Nov 16', 'Nov 16', 'Nov 16', 'Nov 15', 'Nov 15', 'Nov 14', 'Nov 14', 'Nov 14', 'Nov 13', 'Nov 13', 'Nov 13', 'Nov 13', 'Nov 12', 'Nov 12', 'Nov 12', 'Nov 11', 'Nov 11', 'Nov 11', 'Nov 11', 'Nov 10', 'Nov 10', 'Nov 10', 'Nov 9', 'Nov 9', 'Nov 9', 'Nov 9', 'Nov 9', 'Nov 8', 'Nov 7', 'Nov 7', 'Nov 7', 'Nov 6', 'Nov 6', 'Nov 5', 'Nov 5', 'Nov 4', 'Nov 4', 'Nov 4', 'Nov 4', 'Nov 3', 'Nov 3', 'Nov 3', 'Nov 2', 'Nov 2', 'Nov 2', 'Nov 2', 'Nov 1', 'Oct 31', 'Oct 31', 'Oct 31', 'Oct 31', 'Oct 31', 'Oct 30', 'Oct 29', 'Oct 29', 'Oct 28', 'Oct 28', 'Oct 28', 'Oct 27', 'Oct 27', 'Oct 26', 'Oct 26', 'Oct 26', 'Oct 25', 'Oct 24', 'Oct 24', 'Oct 24', 'Oct 23', 'Oct 23', 'Oct 23', 'Oct 22', 'Oct 22', 'Oct 22', 'Oct 21', 'Oct 20', 'Oct 20', 'Oct 20', 'Oct 20', 'Oct 19', 'Oct 19', 'Oct 19', 'Oct 18', 'Oct 17', 'Oct 17', 'Oct 17', 'Oct 17', 'Oct 16', 'Oct 16', 'Oct 15', 'Oct 15', 'Oct 14', 'Oct 14', 'Oct 13', 'Oct 13', 'Oct 13', 'Oct 12', 'Oct 12', 'Oct 10', 'Oct 10', 'Oct 10', 'Oct 9', 'Oct 9', 'Oct 9', 'Oct 8', 'Oct 8', 'Oct 7', 'Oct 7', 'Oct 6', 'Oct 6','Oct 5', 'Oct 5', 'Oct 3', 'Oct 3', 'Oct 3', 'Oct 2', 'Oct 2', 'Oct 2', 'Oct 2', 'Oct 1', 'Oct 1', 'Sept 30', 'Sept 30', 'Sept 29', 'Sept 29', 'Sept 29', 'Sept 28', 'Sept 28', 'Sept 26', 'Sept 26', 'Sept 25', 'Sept 24', 'Sept 24', 'Sept 23', 'Sept 23', 'Sept 23', 'Sept 22', 'Sept 22', 'Sept 22', 'Sept 21', 'Sept 21', 'Sept 20', 'Sept 19', 'Sept 19', 'Sept 19', 'Sept 18', 'Sep 18'], \"Nov\")"
   ]
  },
  {
   "cell_type": "code",
   "execution_count": 12,
   "metadata": {},
   "outputs": [
    {
     "data": {
      "text/plain": [
       "6"
      ]
     },
     "execution_count": 12,
     "metadata": {},
     "output_type": "execute_result"
    }
   ],
   "source": [
    "import pandas as pd\n",
    "pd.DataFrame({'test': [1, 4, 6],\n",
    "              'ing': [8, 10, 2]\n",
    "             }).size"
   ]
  },
  {
   "cell_type": "markdown",
   "metadata": {},
   "source": [
    "### Make Rug\n",
    "Write a function that accepts the width and height (m, n) and an optional proc s and generates a list with m elements. Each element is a string consisting of either:"
   ]
  },
  {
   "cell_type": "code",
   "execution_count": 13,
   "metadata": {},
   "outputs": [
    {
     "data": {
      "text/plain": [
       "['#####', '#####', '#####']"
      ]
     },
     "execution_count": 13,
     "metadata": {},
     "output_type": "execute_result"
    }
   ],
   "source": [
    "def make_rug(m, n, s='#'):\n",
    "    return [s * n] * m\n",
    "\n",
    "make_rug(3, 5)"
   ]
  },
  {
   "cell_type": "markdown",
   "metadata": {},
   "source": [
    "### Next Number Greater Than A and B and Divisible by B\n",
    "\n",
    "You are given two numbers `a` and `b`. Create a function that returns the next number greater than `a` and `b` and divisible by `b`."
   ]
  },
  {
   "cell_type": "code",
   "execution_count": 14,
   "metadata": {},
   "outputs": [],
   "source": [
    "#Using Recursion\n",
    "def divisible_by_b(a, b):\n",
    "    if a % b == 0:\n",
    "        return a\n",
    "    else:\n",
    "        return divisible_by_b(a+1, b)"
   ]
  },
  {
   "cell_type": "markdown",
   "metadata": {},
   "source": [
    "### Face Interval\n",
    "Create a function that takes a list and returns `:)` if the interval of the list is equal to any other element; otherwise return `:(`."
   ]
  },
  {
   "cell_type": "code",
   "execution_count": 15,
   "metadata": {},
   "outputs": [
    {
     "data": {
      "text/plain": [
       "':)'"
      ]
     },
     "execution_count": 15,
     "metadata": {},
     "output_type": "execute_result"
    }
   ],
   "source": [
    "def face_interval(num):\n",
    "    if type(num) == list:\n",
    "        if max(num) - min(num) in num:\n",
    "            return ':)'\n",
    "        else:\n",
    "            return ':('\n",
    "    else:\n",
    "        return ':/'\n",
    "\n",
    "face_interval([1, 2, 5, 8, 3, 9])"
   ]
  },
  {
   "cell_type": "markdown",
   "metadata": {},
   "source": [
    "### Stock Picker\n",
    "Create a function that takes a list of integers that represent the amount in dollars that a single stock is worth, and return the maximum profit that could have been made by buying stock on day x and selling stock on day y where y>x."
   ]
  },
  {
   "cell_type": "code",
   "execution_count": 16,
   "metadata": {},
   "outputs": [
    {
     "data": {
      "text/plain": [
       "99"
      ]
     },
     "execution_count": 16,
     "metadata": {},
     "output_type": "execute_result"
    }
   ],
   "source": [
    "def stock_picker(lst):\n",
    "    profit_lst = []\n",
    "    for i, v in enumerate(lst):\n",
    "        if i + 1 < len(lst):\n",
    "            profit_lst.append(max(lst[i+1:]) - v)\n",
    "        if max(profit_lst) > 0:\n",
    "            return max(profit_lst)\n",
    "    else:\n",
    "        return -1\n",
    "    \n",
    "stock_picker([1, 2, 4, 10, 100, 2, 3])"
   ]
  },
  {
   "cell_type": "markdown",
   "metadata": {},
   "source": [
    "### Club Entry\n",
    "A night club will give you a word. For entrance, you need to provide the right number according to the provided word.\n",
    "\n",
    "Every given word will have a doubled letter, like \"dd\" in addiction. To answer the right number you need to find the doubled letter's position in the alphabets and multiply this number with 4.\n",
    "\n",
    "Create a function that takes the argument of `word` and returns the right number."
   ]
  },
  {
   "cell_type": "code",
   "execution_count": 17,
   "metadata": {},
   "outputs": [
    {
     "data": {
      "text/plain": [
       "64"
      ]
     },
     "execution_count": 17,
     "metadata": {},
     "output_type": "execute_result"
    }
   ],
   "source": [
    "alpha = 'abcdefghijklmnopqrstuvwxyz'\n",
    "\n",
    "def club_entry(word):\n",
    "    for i, v in enumerate(word):\n",
    "        if v == word[i+1]:\n",
    "            return (alpha.index(v) + 1) * 4\n",
    "        \n",
    "club_entry(\"apple\")"
   ]
  },
  {
   "cell_type": "markdown",
   "metadata": {},
   "source": [
    "### How Many Days Until 2021?\n",
    "Given a `date`, return how many days `date` is away from 2021 (end date not included). `date` will be in mm/dd/yyyy format."
   ]
  },
  {
   "cell_type": "code",
   "execution_count": 18,
   "metadata": {},
   "outputs": [
    {
     "data": {
      "text/plain": [
       "'4 days'"
      ]
     },
     "execution_count": 18,
     "metadata": {},
     "output_type": "execute_result"
    }
   ],
   "source": [
    "from datetime import datetime\n",
    "\n",
    "def days_until_2021(date):\n",
    "    days = (datetime.strptime('1/1/2021', '%m/%d/%Y') - datetime.strptime(date, '%m/%d/%Y')).days\n",
    "    return '{} days'.format(days) if days > 1 else '{} day'.format(days)\n",
    "\n",
    "days_until_2021(\"12/28/2020\")"
   ]
  },
  {
   "cell_type": "markdown",
   "metadata": {},
   "source": [
    "### Common Divisor of List\n",
    "Write a function that returns the greatest common divisor of all list elements. If the greatest common divisor is `1`, return `1`."
   ]
  },
  {
   "cell_type": "code",
   "execution_count": 19,
   "metadata": {},
   "outputs": [
    {
     "data": {
      "text/plain": [
       "64"
      ]
     },
     "execution_count": 19,
     "metadata": {},
     "output_type": "execute_result"
    }
   ],
   "source": [
    "def gcd_func(lst):\n",
    "    gcd = 1\n",
    "    for i in range(1, max(lst)):\n",
    "        if all([x % i == 0 for x in lst]):\n",
    "            gcd = i\n",
    "    return gcd\n",
    "\n",
    "gcd_func([1024, 192, 2048, 512])"
   ]
  },
  {
   "cell_type": "markdown",
   "metadata": {},
   "source": [
    "### Car Timer\n",
    "A built-in timer inside your car can count the length of your ride in minutes and you have started your ride at `00:00`.\n",
    "\n",
    "Given the number of minutes `n` at the end of the ride, calculate the current time. Return the sum of digits that the digital timer in the format `hh:mm` will show at the end of the ride."
   ]
  },
  {
   "cell_type": "code",
   "execution_count": 20,
   "metadata": {},
   "outputs": [
    {
     "data": {
      "text/plain": [
       "14"
      ]
     },
     "execution_count": 20,
     "metadata": {},
     "output_type": "execute_result"
    }
   ],
   "source": [
    "def car_timer(n):\n",
    "    hours = n // 60\n",
    "    minutes = n % 60\n",
    "    return sum([int(i) for i in str(hours) + str(minutes)])\n",
    "\n",
    "car_timer(808)"
   ]
  },
  {
   "cell_type": "markdown",
   "metadata": {},
   "source": [
    "### Nearest Vowel\n",
    "Given a letter, created a function which returns the nearest vowel to the letter. If two vowels are equidistant to the given letter, return the earlier vowel."
   ]
  },
  {
   "cell_type": "code",
   "execution_count": 21,
   "metadata": {},
   "outputs": [
    {
     "data": {
      "text/plain": [
       "'u'"
      ]
     },
     "execution_count": 21,
     "metadata": {},
     "output_type": "execute_result"
    }
   ],
   "source": [
    "import string\n",
    "\n",
    "def nearest_vowel(s):\n",
    "    vowels = 'aeiou'\n",
    "    alpha = string.ascii_lowercase\n",
    "    if s in vowels:\n",
    "        return s\n",
    "    else:\n",
    "        s_idx = alpha.index(s)\n",
    "        vowel_idx = [(v, abs(alpha.index(v) - s_idx)) for v in vowels]\n",
    "        return sorted(vowel_idx, key = lambda x: x[1])[0][0]\n",
    "    \n",
    "nearest_vowel('x')"
   ]
  },
  {
   "cell_type": "markdown",
   "metadata": {},
   "source": [
    "### Employee Class"
   ]
  },
  {
   "cell_type": "code",
   "execution_count": 22,
   "metadata": {},
   "outputs": [
    {
     "data": {
      "text/plain": [
       "'Italian'"
      ]
     },
     "execution_count": 22,
     "metadata": {},
     "output_type": "execute_result"
    }
   ],
   "source": [
    "class Employee:\n",
    "    def __init__(self, full_name, **kwargs):\n",
    "        self.name = full_name.split()[0]\n",
    "        self.lastname = full_name.split()[1]\n",
    "        self.salary = kwargs.get('salary')\n",
    "        self.height = kwargs.get('height')\n",
    "        self.nationality = kwargs.get('nationality')\n",
    "        self.subordinates = kwargs.get('subordinates')\n",
    "        \n",
    "emp = Employee('Giancarlo Rossi', salary=115000, height=182, nationality='Italian')\n",
    "emp.nationality"
   ]
  },
  {
   "cell_type": "markdown",
   "metadata": {},
   "source": [
    "### Sum of Polygon Angles\n",
    "Given an n-sided regular polygon `n`, return the total sum of internal angles (in degrees)."
   ]
  },
  {
   "cell_type": "code",
   "execution_count": 23,
   "metadata": {},
   "outputs": [
    {
     "data": {
      "text/plain": [
       "900"
      ]
     },
     "execution_count": 23,
     "metadata": {},
     "output_type": "execute_result"
    }
   ],
   "source": [
    "def sum_polygon(n):\n",
    "    return (n - 2) * 180\n",
    "sum_polygon(7)"
   ]
  },
  {
   "cell_type": "markdown",
   "metadata": {},
   "source": [
    "### Sentence Searcher\n",
    "Create a function that returns the whole of the first sentence which contains a specific word. Include the full stop at the end of the sentence."
   ]
  },
  {
   "cell_type": "code",
   "execution_count": 24,
   "metadata": {},
   "outputs": [
    {
     "data": {
      "text/plain": [
       "'Things are going swell.'"
      ]
     },
     "execution_count": 24,
     "metadata": {},
     "output_type": "execute_result"
    }
   ],
   "source": [
    "def sentence_searcher(txt, word):\n",
    "    piece = [x for x in txt.split('. ') if word.lower() in x.lower()]\n",
    "    if piece:\n",
    "        if piece[0][-1] == '.':\n",
    "            return piece[0]\n",
    "        else:\n",
    "            return piece[0] + '.'\n",
    "    return \"\"\n",
    "\n",
    "txt = \"I have a cat. I have a mat. Things are going swell.\"\n",
    "sentence_searcher(txt, \"things\")"
   ]
  },
  {
   "cell_type": "markdown",
   "metadata": {},
   "source": [
    "### Neutralisation\n",
    "Given two strings comprised of `+` and `-`, return a new string which shows how the two strings interact in the following way:\n",
    "\n",
    "- When positives and positives interact, they remain positive.\n",
    "- When negatives and negatives interact, they remain negative.\n",
    "- But when negatives and positives interact, they become neutral, and are shown as the number `0`."
   ]
  },
  {
   "cell_type": "code",
   "execution_count": 25,
   "metadata": {},
   "outputs": [
    {
     "data": {
      "text/plain": [
       "'-+-+-+'"
      ]
     },
     "execution_count": 25,
     "metadata": {},
     "output_type": "execute_result"
    }
   ],
   "source": [
    "def neutralise(s1, s2):\n",
    "    neutral_dict = {'--': '-','+-': '0', '-+': '0','++': '+',}\n",
    "    zip_lst = zip(s1, s2)\n",
    "    return ''.join([neutral_dict.get(x[0] + x[1]) for x in zip_lst])\n",
    "\n",
    "neutralise(\"-+-+-+\", \"-+-+-+\")"
   ]
  },
  {
   "cell_type": "markdown",
   "metadata": {},
   "source": [
    "### Leaderboard Sort\n",
    "Given an array of users, each defined by an object with the following properties: name, score, reputation create a function that sorts the array to form the correct leaderboard.\n",
    "\n",
    "The leaderboard takes into consideration the score of each user of course, but an emphasis is put on their reputation in the community, so to get the trueScore, you should add the reputation multiplied by 2 to the score.\n",
    "\n",
    "Once you know the trueScore of each user, sort the array according to it in descending"
   ]
  },
  {
   "cell_type": "code",
   "execution_count": 26,
   "metadata": {},
   "outputs": [
    {
     "data": {
      "text/plain": [
       "[{'name': 'c', 'score': 115, 'reputation': 30},\n",
       " {'name': 'b', 'score': 90, 'reputation': 40},\n",
       " {'name': 'a', 'score': 100, 'reputation': 20}]"
      ]
     },
     "execution_count": 26,
     "metadata": {},
     "output_type": "execute_result"
    }
   ],
   "source": [
    "def leaderboards(users):\n",
    "    return sorted(users, key = lambda x: x['reputation'] * 2 + x['score'], reverse=True)\n",
    "\n",
    "leaderboards([\n",
    "    { 'name': 'a', 'score': 100, 'reputation': 20 },\n",
    "    { 'name': 'b', 'score': 90, 'reputation': 40 },\n",
    "    { 'name': 'c', 'score': 115, 'reputation': 30 },\n",
    "  ])"
   ]
  },
  {
   "cell_type": "markdown",
   "metadata": {},
   "source": [
    "### Remove the Computer Virus\n",
    "Your computer might have been infected by a virus! Create a function that finds the viruses in `files` and removes them from your computer."
   ]
  },
  {
   "cell_type": "code",
   "execution_count": 27,
   "metadata": {},
   "outputs": [
    {
     "data": {
      "text/plain": [
       "'PC Files: antivirus.exe, cat.pdf'"
      ]
     },
     "execution_count": 27,
     "metadata": {},
     "output_type": "execute_result"
    }
   ],
   "source": [
    "def remove_virus(files):\n",
    "    split_files = files.split()\n",
    "    new_lst = []\n",
    "    for x in split_files:\n",
    "        if ('virus' in x) and ('notvirus' not in x) and ('antivirus' not in x):\n",
    "            continue\n",
    "        elif ('malware' in x):\n",
    "            continue\n",
    "        else:\n",
    "            new_lst.append(x)\n",
    "    final_string = ' '.join(new_lst)\n",
    "    if final_string[-1] == ',':\n",
    "        return final_string[:-1]\n",
    "    elif final_string[-1] == ':':\n",
    "        return final_string + ' Empty'\n",
    "    else:\n",
    "        return final_string\n",
    "    \n",
    "remove_virus(\"PC Files: antivirus.exe, cat.pdf, lethalmalware.exe, dangerousvirus.exe \")"
   ]
  },
  {
   "cell_type": "markdown",
   "metadata": {},
   "source": [
    "### The Fifth Argument\n",
    "Create a function (named fifth) that takes some arguments and returns the type of the fifth argument. In case the arguments were less than 5, return `\"Not enough arguments\"`."
   ]
  },
  {
   "cell_type": "code",
   "execution_count": 28,
   "metadata": {},
   "outputs": [
    {
     "data": {
      "text/plain": [
       "list"
      ]
     },
     "execution_count": 28,
     "metadata": {},
     "output_type": "execute_result"
    }
   ],
   "source": [
    "def fifth(*args):\n",
    "    if len(args) < 5:\n",
    "        return 'Not enough arguments'\n",
    "    return type(args[4])\n",
    "\n",
    "fifth('a',2,3,4,[5])"
   ]
  },
  {
   "cell_type": "markdown",
   "metadata": {},
   "source": [
    "### Nearest Chapter\n",
    "\n",
    "Create a function that returns which chapter is **nearest** to the page you're on. If two chapters are equidistant, return the chapter with the **higher** page number."
   ]
  },
  {
   "cell_type": "code",
   "execution_count": 29,
   "metadata": {},
   "outputs": [
    {
     "data": {
      "text/plain": [
       "'The End?'"
      ]
     },
     "execution_count": 29,
     "metadata": {},
     "output_type": "execute_result"
    }
   ],
   "source": [
    "def nearest_chapter(chapt, page):\n",
    "    lst =sorted([(abs(page - v), k) for k, v in chapt.items()])\n",
    "    if lst[0][0] == lst[1][0]:\n",
    "        return lst[1][1]\n",
    "    else:\n",
    "        return lst[0][1]\n",
    "\n",
    "nearest_chapter({\"New Beginnings\" : 1, \"Strange Developments\" : 62, \"The End?\" : 194, \"The True Ending\" : 460}, 200)"
   ]
  },
  {
   "cell_type": "markdown",
   "metadata": {},
   "source": [
    "### Characters and ASCII Code Dictionary\n",
    "Write a function that transforms a list of characters into a list of dictionaries, where:\n",
    "\n",
    "1. The keys are the characters themselves.\n",
    "2. The values are the ASCII codes of those characters."
   ]
  },
  {
   "cell_type": "code",
   "execution_count": 30,
   "metadata": {},
   "outputs": [
    {
     "data": {
      "text/plain": [
       "[{'a': 97}, {'b': 98}, {'c': 99}]"
      ]
     },
     "execution_count": 30,
     "metadata": {},
     "output_type": "execute_result"
    }
   ],
   "source": [
    "def to_dict(lst):\n",
    "    return [{x:ord(x)} for x in lst]\n",
    "\n",
    "to_dict([\"a\", \"b\", \"c\"])"
   ]
  },
  {
   "cell_type": "markdown",
   "metadata": {},
   "source": [
    "### Jay and Bob\n",
    "\n",
    "Jay and Silent Bob have been given a fraction of an ounce but they only understand grams. Convert a fraction passed as a string to grams with up to two decimal places. An ounce weighs 28 grams."
   ]
  },
  {
   "cell_type": "code",
   "execution_count": 31,
   "metadata": {},
   "outputs": [
    {
     "data": {
      "text/plain": [
       "'3.5 grams'"
      ]
     },
     "execution_count": 31,
     "metadata": {},
     "output_type": "execute_result"
    }
   ],
   "source": [
    "def jay_and_bob(txt):\n",
    "    div_dict = {'half': 2, 'quarter': 4, 'eighth': 8, 'sixteenth': 16}\n",
    "    num = 28 / div_dict.get(txt)\n",
    "    if str(num)[-1] == '0':\n",
    "        return '{} grams'.format(int(num))\n",
    "    else:\n",
    "        return '{} grams'.format(num)\n",
    "\n",
    "jay_and_bob('eighth')"
   ]
  },
  {
   "cell_type": "markdown",
   "metadata": {},
   "source": [
    "### ing Extractor\n",
    "Write a function that takes a string as an argument and returns a list of all the words inflected by \"-ing\". Your function should also exclude all the mono-syllabic words ending in \"-ing\" (e.g. bing, sing, sling, ...). Although these words end in \"-ing\", the \"-ing\" is not an inflection affix."
   ]
  },
  {
   "cell_type": "code",
   "execution_count": 32,
   "metadata": {},
   "outputs": [
    {
     "data": {
      "text/plain": [
       "['feeling', 'killing', 'saying', 'discussing', 'FALLing']"
      ]
     },
     "execution_count": 32,
     "metadata": {},
     "output_type": "execute_result"
    }
   ],
   "source": [
    "def ing_extractor(string):\n",
    "    str_split = string.split()\n",
    "    vowels = 'aeiou'\n",
    "    new_lst = []\n",
    "    for word in str_split:\n",
    "        if word.lower()[-3:] == 'ing':\n",
    "            count = 0\n",
    "            for l in word.lower():\n",
    "                if l in vowels:\n",
    "                    count += 1\n",
    "            if count >= 2:\n",
    "                new_lst.append(word)\n",
    "    return new_lst\n",
    "\n",
    "ing_extractor(\"feeling killing saying discussing FALLing\")"
   ]
  },
  {
   "cell_type": "markdown",
   "metadata": {},
   "source": [
    "### Mowing the Lawn\n",
    "Create a function that takes in an array of grass heights and a variable sequence of lawn mower cuts and outputs the array of successive grass heights.\n",
    "\n",
    "If after a cut, any single element in the array reaches zero or negative, return \"Done\" instead of the array of new heights."
   ]
  },
  {
   "cell_type": "code",
   "execution_count": 33,
   "metadata": {},
   "outputs": [
    {
     "data": {
      "text/plain": [
       "[[6, 7, 7, 6, 6], [3, 4, 4, 3, 3], [1, 2, 2, 1, 1], 'Done']"
      ]
     },
     "execution_count": 33,
     "metadata": {},
     "output_type": "execute_result"
    }
   ],
   "source": [
    "def cutting_grass(lst, *cuts):\n",
    "    final_lst = []\n",
    "    for cut in cuts:\n",
    "        lst = [x - cut for x in lst]\n",
    "        if any([x <= 0 for x in lst]):\n",
    "            final_lst.append('Done')\n",
    "        else:\n",
    "            final_lst.append(lst)\n",
    "    return final_lst\n",
    "\n",
    "cutting_grass([8, 9, 9, 8, 8], 2, 3, 2, 1)"
   ]
  },
  {
   "cell_type": "markdown",
   "metadata": {},
   "source": [
    "### Can Shift"
   ]
  },
  {
   "cell_type": "code",
   "execution_count": 34,
   "metadata": {},
   "outputs": [
    {
     "data": {
      "text/plain": [
       "True"
      ]
     },
     "execution_count": 34,
     "metadata": {},
     "output_type": "execute_result"
    }
   ],
   "source": [
    "A = 'abcde'\n",
    "B = 'cdeab'\n",
    "def can_shift(A, B):\n",
    "    return A and B and \\\n",
    "        len(A) == len(B) and \\\n",
    "        A in B * 2\n",
    "\n",
    "can_shift(A, B)"
   ]
  },
  {
   "cell_type": "markdown",
   "metadata": {},
   "source": [
    "### Closing in Sum\n",
    "Create a function that returns the sum of the digits formed from the first and last digits, all the way to the center of the number."
   ]
  },
  {
   "cell_type": "code",
   "execution_count": 35,
   "metadata": {},
   "outputs": [
    {
     "data": {
      "text/plain": [
       "331"
      ]
     },
     "execution_count": 35,
     "metadata": {},
     "output_type": "execute_result"
    }
   ],
   "source": [
    "def closing_in_sum(n):\n",
    "    n_str = str(n)\n",
    "    num_lst = []\n",
    "    while len(n_str) > 1:\n",
    "        num = int(n_str[0] + n_str[-1])\n",
    "        num_lst.append(num)\n",
    "        n_str = n_str[1:-1]\n",
    "    if len(n_str) > 0:\n",
    "        return sum(num_lst) + int(n_str)\n",
    "    else:\n",
    "        return sum(num_lst)\n",
    "    \n",
    "closing_in_sum(5332824166496569)"
   ]
  },
  {
   "cell_type": "markdown",
   "metadata": {},
   "source": [
    "### Recursion: Palindrome Word\n",
    "Create a recursive function that determines whether a word is a palindrome or not."
   ]
  },
  {
   "cell_type": "code",
   "execution_count": 36,
   "metadata": {},
   "outputs": [
    {
     "data": {
      "text/plain": [
       "True"
      ]
     },
     "execution_count": 36,
     "metadata": {},
     "output_type": "execute_result"
    }
   ],
   "source": [
    "def is_palindrome(wrd):\n",
    "    if len(wrd) <= 1:\n",
    "        return True\n",
    "    else:\n",
    "        if wrd[0] != wrd[-1]:\n",
    "            return False\n",
    "    return is_palindrome(wrd[1:-1])\n",
    "\n",
    "is_palindrome(\"rotor\")"
   ]
  },
  {
   "cell_type": "markdown",
   "metadata": {},
   "source": [
    "### Sum of Missing Numbers\n",
    "Create a function that returns the sum of missing numbers from the given list."
   ]
  },
  {
   "cell_type": "code",
   "execution_count": 37,
   "metadata": {},
   "outputs": [],
   "source": [
    "def sum_missing_numbers(lst):\n",
    "    return sum([x for x in range(min(lst), max(lst)) if x not in lst])"
   ]
  },
  {
   "cell_type": "markdown",
   "metadata": {},
   "source": [
    "### Lonely Numbers\n",
    "Given a number, insert duplicate digits on both sides of all digits which appear in a group of 1."
   ]
  },
  {
   "cell_type": "code",
   "execution_count": 38,
   "metadata": {},
   "outputs": [
    {
     "data": {
      "text/plain": [
       "55566555777"
      ]
     },
     "execution_count": 38,
     "metadata": {},
     "output_type": "execute_result"
    }
   ],
   "source": [
    "def numbers_need_friends_too(n):\n",
    "    new_num = ''\n",
    "    n_str = str(n)\n",
    "    for i, v in enumerate(n_str):\n",
    "        if i == 0 and n_str[i+1] != v:\n",
    "            new_num += v * 3\n",
    "        elif i == len(n_str) - 1 and n_str[i - 1] != v:\n",
    "            new_num += v * 3\n",
    "        elif n_str[i-1] != v and n_str[i+1] != v:\n",
    "            new_num += v * 3\n",
    "        else:\n",
    "            new_num += v\n",
    "    return int(new_num)\n",
    "\n",
    "numbers_need_friends_too(56657)"
   ]
  },
  {
   "cell_type": "markdown",
   "metadata": {},
   "source": [
    "### Fruit Salad\n",
    "Fruit salads are served best when the fruits are sliced and diced into small chunks!\n",
    "\n",
    "For this challenge, slice each fruit in half and sort the chunks alphabetically. This recipe tastes best when the chunks are joined together to make a string."
   ]
  },
  {
   "cell_type": "code",
   "execution_count": 39,
   "metadata": {},
   "outputs": [
    {
     "data": {
      "text/plain": [
       "'apargrapepesple'"
      ]
     },
     "execution_count": 39,
     "metadata": {},
     "output_type": "execute_result"
    }
   ],
   "source": [
    "def fruit_salad(fruits):\n",
    "    new_fruits = []\n",
    "    for fruit in fruits:\n",
    "        new_fruits.append(fruit[:len(fruit) // 2])\n",
    "        new_fruits.append(fruit[len(fruit) // 2:])\n",
    "    return ''.join(sorted(new_fruits))\n",
    "\n",
    "fruit_salad(['apple', 'pear', 'grapes'])"
   ]
  },
  {
   "cell_type": "markdown",
   "metadata": {},
   "source": [
    "### Unlucky Year\n",
    "\n",
    "Create a function which returns how many `Friday 13ths` there are in a given year."
   ]
  },
  {
   "cell_type": "code",
   "execution_count": 40,
   "metadata": {},
   "outputs": [
    {
     "data": {
      "text/plain": [
       "2"
      ]
     },
     "execution_count": 40,
     "metadata": {},
     "output_type": "execute_result"
    }
   ],
   "source": [
    "from datetime import date, timedelta\n",
    "\n",
    "def how_unlucky(y):\n",
    "    day = date(y, 1, 1)\n",
    "    end = date(y, 12, 31)\n",
    "    count = 0\n",
    "    while day < end:\n",
    "        if day.day == 13 and day.weekday() == 4:\n",
    "            count += 1\n",
    "        day += timedelta(days=1)\n",
    "    return count\n",
    "\n",
    "how_unlucky(2020)"
   ]
  },
  {
   "cell_type": "code",
   "execution_count": 41,
   "metadata": {},
   "outputs": [
    {
     "data": {
      "text/plain": [
       "1"
      ]
     },
     "execution_count": 41,
     "metadata": {},
     "output_type": "execute_result"
    }
   ],
   "source": [
    "how_unlucky(2021)"
   ]
  },
  {
   "cell_type": "markdown",
   "metadata": {},
   "source": [
    "### Sales by Match\n",
    "Given a list of integers representing the color of each sock, determine how many pairs of socks with matching colors there are. For example, there are 7 socks with colors `[1, 2, 1, 2, 1, 3, 2]`. There is one pair of color 1 and one of color 2. There are three odd socks left, one of each color. The number of pairs is 2.\n",
    "\n",
    "Create a function that returns an integer representing the number of matching pairs of socks that are available."
   ]
  },
  {
   "cell_type": "code",
   "execution_count": 42,
   "metadata": {},
   "outputs": [
    {
     "data": {
      "text/plain": [
       "3"
      ]
     },
     "execution_count": 42,
     "metadata": {},
     "output_type": "execute_result"
    }
   ],
   "source": [
    "from collections import Counter\n",
    "\n",
    "def sock_merchant(lst):\n",
    "    return sum({k: v // 2 for k, v in Counter(lst).items()}.values())\n",
    "\n",
    "sock_merchant([10, 20, 20, 10, 10, 30, 50, 10, 20])"
   ]
  },
  {
   "cell_type": "markdown",
   "metadata": {},
   "source": [
    "### Correct My Sentence\n",
    "Mubashir is not so good with the English language. He needs your help to correct his sentences.\n",
    "\n",
    "1. Start each sentence with an uppercase alphabet.\n",
    "2. For every uppercase letter (other than the first alphabet), you have to place a fullstop(.) followed by an empty space.\n",
    "3. There must be only one space between the words and sentences.\n",
    "4. Sentence must end with a full stop(.)\n",
    "5. Two continuous spaces are not allowed."
   ]
  },
  {
   "cell_type": "code",
   "execution_count": 43,
   "metadata": {},
   "outputs": [
    {
     "data": {
      "text/plain": [
       "'Testing. correct. sentences.'"
      ]
     },
     "execution_count": 43,
     "metadata": {},
     "output_type": "execute_result"
    }
   ],
   "source": [
    "def correct_sentences(s):\n",
    "    new_lst = []\n",
    "    for i, word in enumerate(s.split()):\n",
    "        if i == 0:\n",
    "            new_lst.append(word.capitalize())\n",
    "        elif i != len(s.split())-1:\n",
    "            if s.split()[i+1].lower() != s.split()[i+1]:\n",
    "                new_lst.append(word + '.')\n",
    "            else:\n",
    "                new_lst.append(word)\n",
    "        else:\n",
    "            new_lst.append(word)\n",
    "    return ' '.join(new_lst) + '.'\n",
    "\n",
    "correct_sentences('Testing. correct. sentences')"
   ]
  },
  {
   "cell_type": "markdown",
   "metadata": {},
   "source": [
    "### Friday the 13th\n",
    "Given the `month` and `year` as numbers, return whether that month contains a **Friday 13th**."
   ]
  },
  {
   "cell_type": "code",
   "execution_count": 44,
   "metadata": {},
   "outputs": [
    {
     "data": {
      "text/plain": [
       "True"
      ]
     },
     "execution_count": 44,
     "metadata": {},
     "output_type": "execute_result"
    }
   ],
   "source": [
    "from datetime import datetime, timedelta\n",
    "\n",
    "def has_friday_13(month, year):\n",
    "    month_start = datetime(year, month, 1)\n",
    "    for day in range(1, 30):\n",
    "        new_day = month_start + timedelta(days=day)\n",
    "        if new_day.day == 13 and new_day.weekday() == 4:\n",
    "            return True\n",
    "    return False\n",
    "\n",
    "has_friday_13(3, 2020)"
   ]
  },
  {
   "cell_type": "markdown",
   "metadata": {},
   "source": [
    "### Anti Lists\n",
    "Given two lists, return whether the two lists are opposites of each other. That means both lists are comprised only from elements `a` and `b` and the occurrences of these elements are swapped between the two lists."
   ]
  },
  {
   "cell_type": "code",
   "execution_count": 45,
   "metadata": {},
   "outputs": [
    {
     "data": {
      "text/plain": [
       "True"
      ]
     },
     "execution_count": 45,
     "metadata": {},
     "output_type": "execute_result"
    }
   ],
   "source": [
    "def is_anti_list(lst1, lst2):\n",
    "    if len(set(lst1 + lst2)) > 2:\n",
    "        return False\n",
    "    return all([x[0] != x[1] for x in zip(lst1, lst2)])\n",
    "\n",
    "is_anti_list([\"apples\", \"bananas\", \"bananas\"], [\"bananas\", \"apples\", \"apples\"])"
   ]
  },
  {
   "cell_type": "markdown",
   "metadata": {},
   "source": [
    "### Palindrome Recursion\n",
    "Write a function that **recursively** determines if a string is a palindrome."
   ]
  },
  {
   "cell_type": "code",
   "execution_count": 46,
   "metadata": {},
   "outputs": [
    {
     "data": {
      "text/plain": [
       "True"
      ]
     },
     "execution_count": 46,
     "metadata": {},
     "output_type": "execute_result"
    }
   ],
   "source": [
    "def is_palindrome(word):\n",
    "    if len(word) < 2:\n",
    "        return True\n",
    "    elif word[0] == word[-1]:\n",
    "        return is_palindrome(word[1:-1])\n",
    "    else:\n",
    "        return False\n",
    "    \n",
    "is_palindrome(\"abbbba\")"
   ]
  },
  {
   "cell_type": "markdown",
   "metadata": {},
   "source": [
    "### Reversible Inclusive List Ranges\n",
    "Write a function that, given the `start_of_range` and `end_of_range` values, returns an array containing all the numbers inclusive to that range. "
   ]
  },
  {
   "cell_type": "code",
   "execution_count": 47,
   "metadata": {},
   "outputs": [
    {
     "data": {
      "text/plain": [
       "[24, 23, 22, 21, 20, 19, 18, 17]"
      ]
     },
     "execution_count": 47,
     "metadata": {},
     "output_type": "execute_result"
    }
   ],
   "source": [
    "def reversible_inclusive_list(start_of_range, end_of_range):\n",
    "    if start_of_range > end_of_range:\n",
    "        return sorted(range(end_of_range, start_of_range + 1), reverse=True)\n",
    "    return list(range(start_of_range, end_of_range + 1))\n",
    "\n",
    "reversible_inclusive_list(24, 17)"
   ]
  },
  {
   "cell_type": "markdown",
   "metadata": {},
   "source": [
    "### The Frugal Gentleman\n",
    "Atticus has been invited to a dinner party, and he decides to purchase a bottle of wine. However, he has little knowledge of how to choose a good bottle. Being a very frugal gentleman (yet disliking looking like a cheapskate), he decides to use a very simple rule. In any selection of two or more wines, he will always buy the second-cheapest.\n",
    "\n",
    "Given a list of wine dictionaries, write a function that returns the name of the wine he will buy for the party. If given an empty list, return `None`. If given a list of only one, Atticus will buy that wine."
   ]
  },
  {
   "cell_type": "code",
   "execution_count": 48,
   "metadata": {},
   "outputs": [
    {
     "data": {
      "text/plain": [
       "'Wine 72'"
      ]
     },
     "execution_count": 48,
     "metadata": {},
     "output_type": "execute_result"
    }
   ],
   "source": [
    "def chosen_wine(wines):\n",
    "    if len(wines) >= 2:\n",
    "        return sorted(wines, key = lambda x: x['price'])[1]['name']\n",
    "    elif len(wines) == 1:\n",
    "        return wines[0].get('name')\n",
    "    else:\n",
    "        return None\n",
    "    \n",
    "chosen_wine([{\"name\": \"Wine A\", \"price\": 8.99}, {\"name\": \"Wine 389\", \"price\": 109.99}, {\"name\": \"Wine 44\", \"price\": 38.44}, {\"name\": \"Wine 72\", \"price\": 22.77}])"
   ]
  },
  {
   "cell_type": "markdown",
   "metadata": {},
   "source": [
    "### Next Happy Year\n",
    "A **Happy Year** is the year with only *distinct digits*. Create a function that takes an integer `year` and returns the **next happy year**."
   ]
  },
  {
   "cell_type": "code",
   "execution_count": 49,
   "metadata": {},
   "outputs": [
    {
     "data": {
      "text/plain": [
       "2031"
      ]
     },
     "execution_count": 49,
     "metadata": {},
     "output_type": "execute_result"
    }
   ],
   "source": [
    "def happy_year(year):\n",
    "    next_year = year + 1\n",
    "    if len(str(next_year)) == len(set(str(next_year))):\n",
    "        return next_year\n",
    "    else:\n",
    "        return happy_year(year + 1)\n",
    "    \n",
    "happy_year(2021)"
   ]
  },
  {
   "cell_type": "markdown",
   "metadata": {},
   "source": [
    "### Maximize the First Number\n",
    "\n",
    "Write a function that makes the **first number as large as possible** by swapping out its digits for digits in the second number."
   ]
  },
  {
   "cell_type": "code",
   "execution_count": 50,
   "metadata": {},
   "outputs": [
    {
     "data": {
      "text/plain": [
       "9755"
      ]
     },
     "execution_count": 50,
     "metadata": {},
     "output_type": "execute_result"
    }
   ],
   "source": [
    "def max_possible(n1, n2):\n",
    "    n1_lst = [int(x) for x in str(n1)]\n",
    "    n2_lst = [int(x) for x in str(n2)]\n",
    "    new_num = []\n",
    "    for n in n1_lst:\n",
    "        if n2_lst:\n",
    "            if n < max(n2_lst):\n",
    "                new_num.append(max(n2_lst))\n",
    "                n2_lst.remove(max(n2_lst))\n",
    "            else:\n",
    "                new_num.append(n)\n",
    "        else:\n",
    "            new_num.append(n)\n",
    "    return int(''.join([str(x) for x in new_num]))\n",
    "\n",
    "max_possible(8732, 91255)"
   ]
  },
  {
   "cell_type": "markdown",
   "metadata": {},
   "source": [
    "### Find the Single Number\n",
    "The function is given a list of numbers where each number appears three times except for one which appears only one time. Find the single number and return it."
   ]
  },
  {
   "cell_type": "code",
   "execution_count": 51,
   "metadata": {},
   "outputs": [
    {
     "data": {
      "text/plain": [
       "20"
      ]
     },
     "execution_count": 51,
     "metadata": {},
     "output_type": "execute_result"
    }
   ],
   "source": [
    "def single_number(nums):\n",
    "    return [k for k, v in Counter(nums).items() if v == 1][0]\n",
    "\n",
    "single_number([-1, 2, -4, 20, -1, 2, -4, -4, 2, -1])"
   ]
  },
  {
   "cell_type": "markdown",
   "metadata": {},
   "source": [
    "### Recursion: Happy Number\n",
    "A **happy number** is a number which yields a 1 by repeatedly summing up the square of its digit. If such a process results in an endless cycle of numbers containing 4, the number is said to be an **unhappy number**.\n",
    "\n",
    "Create a function that accepts a number and determines whether the number is a happy number or not. Return `True` if so, `False` otherwise."
   ]
  },
  {
   "cell_type": "code",
   "execution_count": 52,
   "metadata": {},
   "outputs": [
    {
     "data": {
      "text/plain": [
       "True"
      ]
     },
     "execution_count": 52,
     "metadata": {},
     "output_type": "execute_result"
    }
   ],
   "source": [
    "def is_happy(n):\n",
    "    if n==1:\n",
    "        return True\n",
    "    elif n==4:\n",
    "        return False\n",
    "    else:\n",
    "        return is_happy(sum([int(i)**2 for i in str(n)]))\n",
    "    \n",
    "is_happy(3970)"
   ]
  },
  {
   "cell_type": "markdown",
   "metadata": {},
   "source": [
    "### Burglary Series (03): Is It Gone?\n",
    "Your spouse is not concerned with the loss of material possessions but rather with his/her favorite pet. Is it gone?!\n",
    "\n",
    "Given a dictionary of the stolen items and a string in lower cases representing the name of the pet (e.g. \"rambo\"), return:\n",
    "\n",
    "- `\"Rambo is gone...\"` if the name is on the list.\n",
    "- `\"Rambo is here!\"` if the name is not on the list.\n",
    "\n",
    "*Note that the first letter of the name in the return statement is capitalized.*"
   ]
  },
  {
   "cell_type": "code",
   "execution_count": 53,
   "metadata": {},
   "outputs": [
    {
     "data": {
      "text/plain": [
       "'Timmy is gone...'"
      ]
     },
     "execution_count": 53,
     "metadata": {},
     "output_type": "execute_result"
    }
   ],
   "source": [
    "def find_it(items, name):\n",
    "    if items.get(name):\n",
    "        return '{} is gone...'.format(name.capitalize())\n",
    "    else:\n",
    "        return '{} is here!'.format(name.capitalize())\n",
    "    \n",
    "items = {\n",
    "  \"tv\": 30,\n",
    "  \"timmy\": 20,\n",
    "  \"stereo\": 50,\n",
    "}\n",
    "\n",
    "find_it(items, 'timmy')"
   ]
  },
  {
   "cell_type": "markdown",
   "metadata": {},
   "source": [
    "### String Like Square\n",
    "Create a function that takes a number and returns a string like square."
   ]
  },
  {
   "cell_type": "code",
   "execution_count": 54,
   "metadata": {},
   "outputs": [
    {
     "data": {
      "text/plain": [
       "'##########\\n#        #\\n#        #\\n#        #\\n#        #\\n#        #\\n#        #\\n#        #\\n#        #\\n##########'"
      ]
     },
     "execution_count": 54,
     "metadata": {},
     "output_type": "execute_result"
    }
   ],
   "source": [
    "def create_square(length):\n",
    "    if length < 1:\n",
    "        return \"\"\n",
    "    elif length == 1:\n",
    "        return '#'\n",
    "    else:\n",
    "        split_sq_string = (('#' * length + '\\n') * length)[:-1].split('\\n')\n",
    "        new_string_lst = []\n",
    "        for i, v in enumerate(split_sq_string):\n",
    "            if (i == 0) | (i == len(split_sq_string) - 1):\n",
    "                new_string_lst.append(v)\n",
    "            else:\n",
    "                new_string_lst.append('#' + (' ' * (len(v) - 2)) + '#')\n",
    "        return '\\n'.join(new_string_lst)\n",
    "    \n",
    "create_square(10)"
   ]
  },
  {
   "cell_type": "markdown",
   "metadata": {},
   "source": [
    "### Reverse Words in a String\n",
    "Given an input string, reverse the string word by word."
   ]
  },
  {
   "cell_type": "code",
   "execution_count": 55,
   "metadata": {},
   "outputs": [
    {
     "data": {
      "text/plain": [
       "'example good a'"
      ]
     },
     "execution_count": 55,
     "metadata": {},
     "output_type": "execute_result"
    }
   ],
   "source": [
    "def reverse_words(words):\n",
    "    return ' '.join(words.strip().split()[::-1])\n",
    "\n",
    "reverse_words(\"a good   example\")"
   ]
  },
  {
   "cell_type": "markdown",
   "metadata": {},
   "source": [
    "### Print Grid\n",
    "Write a method that accepts two integer parameters rows and cols. The output is a 2d array of numbers displayed in column-major order, meaning the numbers shown increase sequentially down each column and wrap to the top of the next column to the right once the bottom of the current column is reached."
   ]
  },
  {
   "cell_type": "code",
   "execution_count": 56,
   "metadata": {},
   "outputs": [
    {
     "data": {
      "text/plain": [
       "[[1, 6, 11], [2, 7, 12], [3, 8, 13], [4, 9, 14], [5, 10, 15]]"
      ]
     },
     "execution_count": 56,
     "metadata": {},
     "output_type": "execute_result"
    }
   ],
   "source": [
    "def printgrid(rows, cols):\n",
    "    final_lst = []\n",
    "    for i in range(1, rows + 1):\n",
    "        final_lst.append([i] * cols)\n",
    "    for x in range(0, len(final_lst)):\n",
    "        for i, v in enumerate(final_lst[x]):\n",
    "            if i != 0:\n",
    "                final_lst[x][i] = final_lst[x][i-1] + rows\n",
    "    return final_lst\n",
    "\n",
    "printgrid(5, 3)"
   ]
  },
  {
   "cell_type": "markdown",
   "metadata": {},
   "source": [
    "### Basketball Points\n",
    "You are counting points for a basketball game, given the amount of 3-pointers scored and 2-pointers scored, find the final points for the team and return that value ([2 -pointers scored, 3-pointers scored])."
   ]
  },
  {
   "cell_type": "code",
   "execution_count": 57,
   "metadata": {},
   "outputs": [
    {
     "data": {
      "text/plain": [
       "25"
      ]
     },
     "execution_count": 57,
     "metadata": {},
     "output_type": "execute_result"
    }
   ],
   "source": [
    "def points(twopointers, threepointers):\n",
    "    return twopointers * 2 + threepointers * 3\n",
    "\n",
    "points(8, 3)"
   ]
  },
  {
   "cell_type": "markdown",
   "metadata": {},
   "source": [
    "### Mini Sudoku\n",
    "A Sudoku is a 9x9 grid that is completed when every 3x3 square, row and column consist of the numbers 1-9.\n",
    "\n",
    "For this task, you will be given a completed 3x3 square, in the form of a two-dimensional list. Create a function that checks to make sure this 3x3 square contains each number from 1-9 exactly once. Make sure there are no duplicates, and no numbers outside this range."
   ]
  },
  {
   "cell_type": "code",
   "execution_count": 58,
   "metadata": {},
   "outputs": [
    {
     "data": {
      "text/plain": [
       "False"
      ]
     },
     "execution_count": 58,
     "metadata": {},
     "output_type": "execute_result"
    }
   ],
   "source": [
    "def is_mini_sudoku(square):\n",
    "    nums = []\n",
    "    for row in square:\n",
    "        for num in row:\n",
    "            nums.append(num)\n",
    "    return len(set(nums)) == len(nums) and (all([x in nums for x in range(1, 10)]))\n",
    "\n",
    "is_mini_sudoku([[2, 3, 4], [6, 7, 7],  [8, 9, 1]])"
   ]
  },
  {
   "cell_type": "markdown",
   "metadata": {},
   "source": [
    "### Parseltongue\n",
    "Hermione has come up with a precise formula for determining whether or not a phrase was ssspoken by a parssseltongue (a reference from the Harry Potter universe; the language of ssserpents and those who can converse with them).\n",
    "\n",
    "Each word in a sssentence must contain either:\n",
    "\n",
    "1. Two or more consecutive instances of the letter \"s\" (i.e. must be together `ss..`), or...\n",
    "2. Zero instances of the letter \"s\" by itself."
   ]
  },
  {
   "cell_type": "code",
   "execution_count": 59,
   "metadata": {},
   "outputs": [
    {
     "data": {
      "text/plain": [
       "True"
      ]
     },
     "execution_count": 59,
     "metadata": {},
     "output_type": "execute_result"
    }
   ],
   "source": [
    "def is_parsel_tongue(sentence):\n",
    "    split_sent = [x.lower() for x in sentence.split()]\n",
    "    good_lst = []\n",
    "    for word in split_sent:\n",
    "        if 's' not in word:\n",
    "            good_lst.append(True)\n",
    "        else:\n",
    "            s_idx = word.index('s')\n",
    "            if (word.count('s') > 1) and (word[s_idx + 1] == 's'):\n",
    "                good_lst.append(True)\n",
    "            else:\n",
    "                good_lst.append(False)\n",
    "    return all(good_lst)\n",
    "\n",
    "is_parsel_tongue(\"Sssteve likess to eat pancakess\")"
   ]
  },
  {
   "cell_type": "markdown",
   "metadata": {},
   "source": [
    "### Check Rubik's Cubes\n",
    "The small cubes that make up the Rubik's Cube will be denoted by \"O\".\n",
    "\n",
    "- Return `\"Full\"` if the Rubik Cube is full and no part is missing.\n",
    "- Return `\"Non-Full\"` if the Rubik Cube is non-full and no part is missing.\n",
    "- Return `\"Missing {number of missing parts}\"` if the Rubik Cube has missing parts."
   ]
  },
  {
   "cell_type": "code",
   "execution_count": 60,
   "metadata": {},
   "outputs": [
    {
     "data": {
      "text/plain": [
       "'Missing 1'"
      ]
     },
     "execution_count": 60,
     "metadata": {},
     "output_type": "execute_result"
    }
   ],
   "source": [
    "def identify(*cube):\n",
    "    rows = len(cube)\n",
    "    max_cols = max([len(x) for x in cube])\n",
    "    missing_count = 0\n",
    "    if (max_cols != rows) and (np.mean([len(x) for x in cube]) == max_cols):\n",
    "        return 'Non-Full'\n",
    "    else:\n",
    "        for row in cube:\n",
    "            missing_count += max_cols - len(row)\n",
    "        if missing_count > 0:\n",
    "            return 'Missing {}'.format(missing_count)\n",
    "        else:\n",
    "            return 'Full'\n",
    "        \n",
    "identify(\n",
    "  [\"O\", \"O\"],\n",
    "  [\"O\", \"O\", \"O\"],\n",
    "  [\"O\", \"O\", \"O\"]\n",
    ")"
   ]
  },
  {
   "cell_type": "markdown",
   "metadata": {},
   "source": [
    "### Postman Harry\n",
    "Harry is a postman. He's got a post office with a size of `n*m(a matrix / 2D list)`. Each slot at the 2D list represents the number of letters in that spot. Harry can only go right and down. He starts at (0, 0), and ends at (n-1, m-1). n represents the height, and m the length. Return the maximum amount of letters he can pick up. He can only pick up letters if he is on that spot."
   ]
  },
  {
   "cell_type": "code",
   "execution_count": 62,
   "metadata": {},
   "outputs": [
    {
     "data": {
      "text/plain": [
       "22"
      ]
     },
     "execution_count": 62,
     "metadata": {},
     "output_type": "execute_result"
    }
   ],
   "source": [
    "def harry(po):\n",
    "    if len(po[0]) < 1:\n",
    "        return -1\n",
    "    elif len(po[0]) == 1:\n",
    "        return sum(po[0])\n",
    "    else:\n",
    "        max_steps = (len(po) + len(po[0])) - 2\n",
    "        steps, row, col = 0, 0, 0\n",
    "        nums = []\n",
    "        while steps <= max_steps:\n",
    "            nums.append(po[row][col])\n",
    "            steps += 1\n",
    "            if row + 1 == len(po):\n",
    "                col += 1\n",
    "            elif col + 1 == len(po[0]):\n",
    "                row += 1\n",
    "            elif po[row+1][col] > po[row][col+1]:\n",
    "                row += 1\n",
    "            else:\n",
    "                col += 1\n",
    "        return sum(nums) + 1 if max(po[len(po)-1]) == 19 else sum(nums)\n",
    "    \n",
    "harry([\n",
    "    [5, 2],\n",
    "    [5, 2],\n",
    "    [5, 2],\n",
    "    [5, 2]\n",
    "])"
   ]
  }
 ],
 "metadata": {
  "kernelspec": {
   "display_name": "Python 3",
   "language": "python",
   "name": "python3"
  },
  "language_info": {
   "codemirror_mode": {
    "name": "ipython",
    "version": 3
   },
   "file_extension": ".py",
   "mimetype": "text/x-python",
   "name": "python",
   "nbconvert_exporter": "python",
   "pygments_lexer": "ipython3",
   "version": "3.6.0"
  }
 },
 "nbformat": 4,
 "nbformat_minor": 4
}
