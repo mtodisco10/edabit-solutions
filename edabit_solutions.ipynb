{
 "cells": [
  {
   "cell_type": "markdown",
   "metadata": {},
   "source": [
    "# Edabit Solutions"
   ]
  },
  {
   "cell_type": "markdown",
   "metadata": {},
   "source": [
    "### Merge Lists in Order\n",
    "Given two lists, merge them to one list and sort the new list in the same order as the first list."
   ]
  },
  {
   "cell_type": "code",
   "execution_count": 1,
   "metadata": {},
   "outputs": [
    {
     "data": {
      "text/plain": [
       "[1, 2, 3, 4, 5, 6]"
      ]
     },
     "execution_count": 1,
     "metadata": {},
     "output_type": "execute_result"
    }
   ],
   "source": [
    "def merge_sort(lst1, lst2):\n",
    "    if lst1[0] > lst1[1]:\n",
    "        return sorted(lst1 + lst2, reverse=True)\n",
    "    else:\n",
    "        return sorted(lst1 + lst2)\n",
    "\n",
    "lst1 = [1, 2, 3]\n",
    "lst2= [5, 4, 6]\n",
    "merge_sort(lst1, lst2)"
   ]
  },
  {
   "cell_type": "markdown",
   "metadata": {},
   "source": [
    "### Burglary Series (03): Is It Gone?\n",
    "Your spouse is not concerned with the loss of material possessions but rather with his/her favorite pet. Is it gone?!\n",
    "\n",
    "Given a dictionary of the stolen items and a string in lower cases representing the name of the pet (e.g. \"rambo\"), return:\n",
    "\n",
    "\"Rambo is gone...\" if the name is on the list.\n",
    "\"Rambo is here!\" if the name is not on the list."
   ]
  },
  {
   "cell_type": "code",
   "execution_count": 2,
   "metadata": {},
   "outputs": [
    {
     "data": {
      "text/plain": [
       "'Rocky is here!'"
      ]
     },
     "execution_count": 2,
     "metadata": {},
     "output_type": "execute_result"
    }
   ],
   "source": [
    "def find_it(items, name):\n",
    "    if name in items.keys():\n",
    "        return '{} is gone...'.format(name.capitalize())\n",
    "    return '{} is here!'.format(name.capitalize())\n",
    "\n",
    "find_it({\"tv\": 30, \"stereo\": 50,}, \"rocky\")"
   ]
  },
  {
   "cell_type": "markdown",
   "metadata": {},
   "source": [
    "### Designing Rugs\n",
    "Write a function that accepts the width and height (m, n) and an optional proc s and generates a list with m elements."
   ]
  },
  {
   "cell_type": "code",
   "execution_count": 3,
   "metadata": {},
   "outputs": [
    {
     "data": {
      "text/plain": [
       "['$$$$$', '$$$$$', '$$$$$']"
      ]
     },
     "execution_count": 3,
     "metadata": {},
     "output_type": "execute_result"
    }
   ],
   "source": [
    "def make_rug(m, n, s='#'):\n",
    "    return [s * n] * m\n",
    "\n",
    "make_rug(3, 5, '$')"
   ]
  },
  {
   "cell_type": "markdown",
   "metadata": {},
   "source": [
    "### Operations\n",
    "Write a function that does the following things: adding, subtracting, dividing, or multiplying values. "
   ]
  },
  {
   "cell_type": "code",
   "execution_count": 4,
   "metadata": {},
   "outputs": [
    {
     "data": {
      "text/plain": [
       "'3'"
      ]
     },
     "execution_count": 4,
     "metadata": {},
     "output_type": "execute_result"
    }
   ],
   "source": [
    "def operation(a, b, op):\n",
    "    op_dict = {'add': '+', 'subtract':'-', 'multiply':'*', 'divide':'//'}\n",
    "    try:\n",
    "        return str(eval(a + op_dict[op] + b))\n",
    "    except:\n",
    "        return 'undefined'\n",
    "    \n",
    "operation(\"1\", \"2\", \"add\")"
   ]
  },
  {
   "cell_type": "markdown",
   "metadata": {},
   "source": [
    "### N-Length Letter Groups\n",
    "Write a function that returns a list of strings populated from the slices of n-length characters of the given word (a slice after another while n-length applies onto the word)."
   ]
  },
  {
   "cell_type": "code",
   "execution_count": 5,
   "metadata": {},
   "outputs": [
    {
     "data": {
      "text/plain": [
       "['ationa', 'interc', 'ntalis', 'ontine']"
      ]
     },
     "execution_count": 5,
     "metadata": {},
     "output_type": "execute_result"
    }
   ],
   "source": [
    "def collect(s, n):\n",
    "    slice_lst = []\n",
    "    for x in range(0, len(s) // n):\n",
    "        slice_lst.append(s[:n])\n",
    "        s = s[n:]\n",
    "    return sorted(slice_lst)\n",
    "\n",
    "collect(\"intercontinentalisationalism\", 6)"
   ]
  },
  {
   "cell_type": "markdown",
   "metadata": {},
   "source": [
    "## Syncopated Rhythm\n",
    "Syncopation means an emphasis on a weak beat of a bar of music; most commonly, beats 2 and 4 (and all other even-numbered beats if applicable).\n",
    "\n",
    "s is a line of music, represented as a string, where hashtags # represent emphasized beats. Create a function that returns if the line of music contains any syncopation."
   ]
  },
  {
   "cell_type": "code",
   "execution_count": 6,
   "metadata": {},
   "outputs": [
    {
     "data": {
      "text/plain": [
       "True"
      ]
     },
     "execution_count": 6,
     "metadata": {},
     "output_type": "execute_result"
    }
   ],
   "source": [
    "def has_syncopation(s):\n",
    "    return any([i % 2 == 1 and v == '#' for i, v in enumerate(s)])\n",
    "\n",
    "has_syncopation(\"#.#.###.\")"
   ]
  },
  {
   "cell_type": "markdown",
   "metadata": {},
   "source": [
    "### Meme Sum"
   ]
  },
  {
   "cell_type": "code",
   "execution_count": 7,
   "metadata": {},
   "outputs": [
    {
     "data": {
      "text/plain": [
       "31111013"
      ]
     },
     "execution_count": 7,
     "metadata": {},
     "output_type": "execute_result"
    }
   ],
   "source": [
    "def meme_sum(a, b):\n",
    "    a, b = str(a), str(b)\n",
    "    if len(a) > len(b):\n",
    "        b = '0' * (len(a) - len(b)) + b\n",
    "        zip_lst = list(zip(a, b))\n",
    "        return int(''.join([str(int(x[0]) + int(x[1])) for x in zip_lst]))\n",
    "    elif len(b) > len(a):\n",
    "        a = '0' * (len(b) - len(a)) + a\n",
    "        zip_lst = list(zip(a, b))\n",
    "        return int(''.join([str(int(x[0]) + int(x[1])) for x in zip_lst]))\n",
    "    else:\n",
    "        zip_lst = list(zip(a, b))\n",
    "        return int(''.join([str(int(x[0]) + int(x[1])) for x in zip_lst]))\n",
    "    \n",
    "meme_sum(1236, 30977)"
   ]
  },
  {
   "cell_type": "markdown",
   "metadata": {},
   "source": [
    "## Splitting Up Numbers\n",
    "Create a function that takes a number num and returns each place value in the number."
   ]
  },
  {
   "cell_type": "code",
   "execution_count": 8,
   "metadata": {},
   "outputs": [
    {
     "data": {
      "text/plain": [
       "[-400, -30, -4]"
      ]
     },
     "execution_count": 8,
     "metadata": {},
     "output_type": "execute_result"
    }
   ],
   "source": [
    "def num_split(num):\n",
    "    num_str = str(num)\n",
    "    num_lst = []\n",
    "    if num_str[0] == '-':\n",
    "        for x in range(1, len(num_str)):\n",
    "            num_lst.append('-' + num_str[x] + '0' * len(num_str[x+1:]))\n",
    "    else:\n",
    "        for x in range(0, len(num_str)):\n",
    "            num_lst.append(num_str[x] + '0' * len(num_str[x+1:]))\n",
    "\n",
    "    return [int(x) for x in num_lst]\n",
    "\n",
    "num_split(-434)"
   ]
  },
  {
   "cell_type": "markdown",
   "metadata": {},
   "source": [
    "### Modify Words\n",
    "Create a function that takes a list of any length. Modify each element (capitalize, reverse, hyphenate)."
   ]
  },
  {
   "cell_type": "code",
   "execution_count": 9,
   "metadata": {},
   "outputs": [
    {
     "data": {
      "text/plain": [
       "['OLL-EH', '-', 'DLR-OW']"
      ]
     },
     "execution_count": 9,
     "metadata": {},
     "output_type": "execute_result"
    }
   ],
   "source": [
    "def edit_words(lst):\n",
    "    word_lst = [x[::-1].upper() for x in lst]\n",
    "    return [x[:(len(x) // 2)] + '-' + x[(len(x) // 2):] if len(x) % 2 == 0 else x[:(len(x) // 2)+1] + '-' + x[(len(x) // 2)+1:] for x in word_lst]\n",
    "\n",
    "edit_words([\"hello\", \"\", \"world\"])"
   ]
  },
  {
   "cell_type": "markdown",
   "metadata": {},
   "source": [
    "## RegEx VIII-A: Digit Character Class\n",
    "Write the regular expression that matches all street addresses"
   ]
  },
  {
   "cell_type": "code",
   "execution_count": 10,
   "metadata": {},
   "outputs": [],
   "source": [
    "pattern = \"\\d+\\s\\w+\\s\\w+\\.\""
   ]
  },
  {
   "cell_type": "markdown",
   "metadata": {},
   "source": [
    "### YouTube Upload Count"
   ]
  },
  {
   "cell_type": "code",
   "execution_count": 11,
   "metadata": {},
   "outputs": [
    {
     "data": {
      "text/plain": [
       "79"
      ]
     },
     "execution_count": 11,
     "metadata": {},
     "output_type": "execute_result"
    }
   ],
   "source": [
    "import re\n",
    "from collections import Counter\n",
    "\n",
    "def upload_count(dates, month):\n",
    "    dates_dict = Counter([re.findall(r'\\w{3,4}', x)[0] for x in dates])\n",
    "    return dates_dict[month]\n",
    "\n",
    "upload_count(['Dec 10', 'Dec 10', 'Dec 9', 'Dec 9', 'Dec 9', 'Dec 8', 'Dec 8', 'Dec 8', 'Dec 8', 'Dec 8', 'Dec 8', 'Dec 8', 'Dec 8', 'Dec 7', 'Dec 7', 'Dec 7', 'Dec 7', 'Dec 7', 'Dec 5', 'Dec 5', 'Dec 5', 'Dec 4', 'Dec 4', 'Dec 4', 'Dec 4', 'Dec 4', 'Dec 3', 'Dec 3', 'Dec 3', 'Dec 2', 'Dec 2', 'Dec 2', 'Dec 1', 'Dec 1', 'Dec 1', 'Dec 1','Nov 30', 'Nov 30', 'Nov 28', 'Nov 28', 'Nov 27', 'Nov 27', 'Nov 27', 'Nov 26', 'Nov 26', 'Nov 25', 'Nov 25', 'Nov 25', 'Nov 25', 'Nov 24', 'Nov 24', 'Nov 23', 'Nov 23', 'Nov 23', 'Nov 21', 'Nov 21', 'Nov 20', 'Nov 20', 'Nov 20', 'Nov 19', 'Nov 19', 'Nov 19', 'Nov 18', 'Nov 18', 'Nov 17', 'Nov 17', 'Nov 17', 'Nov 16', 'Nov 16', 'Nov 16', 'Nov 16', 'Nov 15', 'Nov 15', 'Nov 14', 'Nov 14', 'Nov 14', 'Nov 13', 'Nov 13', 'Nov 13', 'Nov 13', 'Nov 12', 'Nov 12', 'Nov 12', 'Nov 11', 'Nov 11', 'Nov 11', 'Nov 11', 'Nov 10', 'Nov 10', 'Nov 10', 'Nov 9', 'Nov 9', 'Nov 9', 'Nov 9', 'Nov 9', 'Nov 8', 'Nov 7', 'Nov 7', 'Nov 7', 'Nov 6', 'Nov 6', 'Nov 5', 'Nov 5', 'Nov 4', 'Nov 4', 'Nov 4', 'Nov 4', 'Nov 3', 'Nov 3', 'Nov 3', 'Nov 2', 'Nov 2', 'Nov 2', 'Nov 2', 'Nov 1', 'Oct 31', 'Oct 31', 'Oct 31', 'Oct 31', 'Oct 31', 'Oct 30', 'Oct 29', 'Oct 29', 'Oct 28', 'Oct 28', 'Oct 28', 'Oct 27', 'Oct 27', 'Oct 26', 'Oct 26', 'Oct 26', 'Oct 25', 'Oct 24', 'Oct 24', 'Oct 24', 'Oct 23', 'Oct 23', 'Oct 23', 'Oct 22', 'Oct 22', 'Oct 22', 'Oct 21', 'Oct 20', 'Oct 20', 'Oct 20', 'Oct 20', 'Oct 19', 'Oct 19', 'Oct 19', 'Oct 18', 'Oct 17', 'Oct 17', 'Oct 17', 'Oct 17', 'Oct 16', 'Oct 16', 'Oct 15', 'Oct 15', 'Oct 14', 'Oct 14', 'Oct 13', 'Oct 13', 'Oct 13', 'Oct 12', 'Oct 12', 'Oct 10', 'Oct 10', 'Oct 10', 'Oct 9', 'Oct 9', 'Oct 9', 'Oct 8', 'Oct 8', 'Oct 7', 'Oct 7', 'Oct 6', 'Oct 6','Oct 5', 'Oct 5', 'Oct 3', 'Oct 3', 'Oct 3', 'Oct 2', 'Oct 2', 'Oct 2', 'Oct 2', 'Oct 1', 'Oct 1', 'Sept 30', 'Sept 30', 'Sept 29', 'Sept 29', 'Sept 29', 'Sept 28', 'Sept 28', 'Sept 26', 'Sept 26', 'Sept 25', 'Sept 24', 'Sept 24', 'Sept 23', 'Sept 23', 'Sept 23', 'Sept 22', 'Sept 22', 'Sept 22', 'Sept 21', 'Sept 21', 'Sept 20', 'Sept 19', 'Sept 19', 'Sept 19', 'Sept 18', 'Sep 18'], \"Nov\")"
   ]
  },
  {
   "cell_type": "code",
   "execution_count": 12,
   "metadata": {},
   "outputs": [
    {
     "data": {
      "text/plain": [
       "6"
      ]
     },
     "execution_count": 12,
     "metadata": {},
     "output_type": "execute_result"
    }
   ],
   "source": [
    "import pandas as pd\n",
    "pd.DataFrame({'test': [1, 4, 6],\n",
    "              'ing': [8, 10, 2]\n",
    "             }).size"
   ]
  },
  {
   "cell_type": "markdown",
   "metadata": {},
   "source": [
    "### Make Rug\n",
    "Write a function that accepts the width and height (m, n) and an optional proc s and generates a list with m elements. Each element is a string consisting of either:"
   ]
  },
  {
   "cell_type": "code",
   "execution_count": 13,
   "metadata": {},
   "outputs": [
    {
     "data": {
      "text/plain": [
       "['#####', '#####', '#####']"
      ]
     },
     "execution_count": 13,
     "metadata": {},
     "output_type": "execute_result"
    }
   ],
   "source": [
    "def make_rug(m, n, s='#'):\n",
    "    return [s * n] * m\n",
    "\n",
    "make_rug(3, 5)"
   ]
  },
  {
   "cell_type": "markdown",
   "metadata": {},
   "source": [
    "### Next Number Greater Than A and B and Divisible by B\n",
    "\n",
    "You are given two numbers `a` and `b`. Create a function that returns the next number greater than `a` and `b` and divisible by `b`."
   ]
  },
  {
   "cell_type": "code",
   "execution_count": 14,
   "metadata": {},
   "outputs": [],
   "source": [
    "#Using Recursion\n",
    "def divisible_by_b(a, b):\n",
    "    if a % b == 0:\n",
    "        return a\n",
    "    else:\n",
    "        return divisible_by_b(a+1, b)"
   ]
  },
  {
   "cell_type": "markdown",
   "metadata": {},
   "source": [
    "### Face Interval\n",
    "Create a function that takes a list and returns `:)` if the interval of the list is equal to any other element; otherwise return `:(`."
   ]
  },
  {
   "cell_type": "code",
   "execution_count": 15,
   "metadata": {},
   "outputs": [
    {
     "data": {
      "text/plain": [
       "':)'"
      ]
     },
     "execution_count": 15,
     "metadata": {},
     "output_type": "execute_result"
    }
   ],
   "source": [
    "def face_interval(num):\n",
    "    if type(num) == list:\n",
    "        if max(num) - min(num) in num:\n",
    "            return ':)'\n",
    "        else:\n",
    "            return ':('\n",
    "    else:\n",
    "        return ':/'\n",
    "\n",
    "face_interval([1, 2, 5, 8, 3, 9])"
   ]
  },
  {
   "cell_type": "markdown",
   "metadata": {},
   "source": [
    "### Stock Picker\n",
    "Create a function that takes a list of integers that represent the amount in dollars that a single stock is worth, and return the maximum profit that could have been made by buying stock on day x and selling stock on day y where y>x."
   ]
  },
  {
   "cell_type": "code",
   "execution_count": 16,
   "metadata": {},
   "outputs": [
    {
     "data": {
      "text/plain": [
       "99"
      ]
     },
     "execution_count": 16,
     "metadata": {},
     "output_type": "execute_result"
    }
   ],
   "source": [
    "def stock_picker(lst):\n",
    "    profit_lst = []\n",
    "    for i, v in enumerate(lst):\n",
    "        if i + 1 < len(lst):\n",
    "            profit_lst.append(max(lst[i+1:]) - v)\n",
    "        if max(profit_lst) > 0:\n",
    "            return max(profit_lst)\n",
    "    else:\n",
    "        return -1\n",
    "    \n",
    "stock_picker([1, 2, 4, 10, 100, 2, 3])"
   ]
  },
  {
   "cell_type": "markdown",
   "metadata": {},
   "source": [
    "### Club Entry\n",
    "A night club will give you a word. For entrance, you need to provide the right number according to the provided word.\n",
    "\n",
    "Every given word will have a doubled letter, like \"dd\" in addiction. To answer the right number you need to find the doubled letter's position in the alphabets and multiply this number with 4.\n",
    "\n",
    "Create a function that takes the argument of `word` and returns the right number."
   ]
  },
  {
   "cell_type": "code",
   "execution_count": 17,
   "metadata": {},
   "outputs": [
    {
     "data": {
      "text/plain": [
       "64"
      ]
     },
     "execution_count": 17,
     "metadata": {},
     "output_type": "execute_result"
    }
   ],
   "source": [
    "alpha = 'abcdefghijklmnopqrstuvwxyz'\n",
    "\n",
    "def club_entry(word):\n",
    "    for i, v in enumerate(word):\n",
    "        if v == word[i+1]:\n",
    "            return (alpha.index(v) + 1) * 4\n",
    "        \n",
    "club_entry(\"apple\")"
   ]
  },
  {
   "cell_type": "markdown",
   "metadata": {},
   "source": [
    "### How Many Days Until 2021?\n",
    "Given a `date`, return how many days `date` is away from 2021 (end date not included). `date` will be in mm/dd/yyyy format."
   ]
  },
  {
   "cell_type": "code",
   "execution_count": 18,
   "metadata": {},
   "outputs": [
    {
     "data": {
      "text/plain": [
       "'4 days'"
      ]
     },
     "execution_count": 18,
     "metadata": {},
     "output_type": "execute_result"
    }
   ],
   "source": [
    "from datetime import datetime\n",
    "\n",
    "def days_until_2021(date):\n",
    "    days = (datetime.strptime('1/1/2021', '%m/%d/%Y') - datetime.strptime(date, '%m/%d/%Y')).days\n",
    "    return '{} days'.format(days) if days > 1 else '{} day'.format(days)\n",
    "\n",
    "days_until_2021(\"12/28/2020\")"
   ]
  },
  {
   "cell_type": "markdown",
   "metadata": {},
   "source": [
    "### Common Divisor of List\n",
    "Write a function that returns the greatest common divisor of all list elements. If the greatest common divisor is `1`, return `1`."
   ]
  },
  {
   "cell_type": "code",
   "execution_count": 19,
   "metadata": {},
   "outputs": [
    {
     "data": {
      "text/plain": [
       "64"
      ]
     },
     "execution_count": 19,
     "metadata": {},
     "output_type": "execute_result"
    }
   ],
   "source": [
    "def gcd_func(lst):\n",
    "    gcd = 1\n",
    "    for i in range(1, max(lst)):\n",
    "        if all([x % i == 0 for x in lst]):\n",
    "            gcd = i\n",
    "    return gcd\n",
    "\n",
    "gcd_func([1024, 192, 2048, 512])"
   ]
  },
  {
   "cell_type": "markdown",
   "metadata": {},
   "source": [
    "### Car Timer\n",
    "A built-in timer inside your car can count the length of your ride in minutes and you have started your ride at `00:00`.\n",
    "\n",
    "Given the number of minutes `n` at the end of the ride, calculate the current time. Return the sum of digits that the digital timer in the format `hh:mm` will show at the end of the ride."
   ]
  },
  {
   "cell_type": "code",
   "execution_count": 20,
   "metadata": {},
   "outputs": [
    {
     "data": {
      "text/plain": [
       "14"
      ]
     },
     "execution_count": 20,
     "metadata": {},
     "output_type": "execute_result"
    }
   ],
   "source": [
    "def car_timer(n):\n",
    "    hours = n // 60\n",
    "    minutes = n % 60\n",
    "    return sum([int(i) for i in str(hours) + str(minutes)])\n",
    "\n",
    "car_timer(808)"
   ]
  },
  {
   "cell_type": "markdown",
   "metadata": {},
   "source": [
    "### Nearest Vowel\n",
    "Given a letter, created a function which returns the nearest vowel to the letter. If two vowels are equidistant to the given letter, return the earlier vowel."
   ]
  },
  {
   "cell_type": "code",
   "execution_count": 21,
   "metadata": {},
   "outputs": [
    {
     "data": {
      "text/plain": [
       "'u'"
      ]
     },
     "execution_count": 21,
     "metadata": {},
     "output_type": "execute_result"
    }
   ],
   "source": [
    "import string\n",
    "\n",
    "def nearest_vowel(s):\n",
    "    vowels = 'aeiou'\n",
    "    alpha = string.ascii_lowercase\n",
    "    if s in vowels:\n",
    "        return s\n",
    "    else:\n",
    "        s_idx = alpha.index(s)\n",
    "        vowel_idx = [(v, abs(alpha.index(v) - s_idx)) for v in vowels]\n",
    "        return sorted(vowel_idx, key = lambda x: x[1])[0][0]\n",
    "    \n",
    "nearest_vowel('x')"
   ]
  },
  {
   "cell_type": "markdown",
   "metadata": {},
   "source": [
    "### Employee Class"
   ]
  },
  {
   "cell_type": "code",
   "execution_count": 22,
   "metadata": {},
   "outputs": [
    {
     "data": {
      "text/plain": [
       "'Italian'"
      ]
     },
     "execution_count": 22,
     "metadata": {},
     "output_type": "execute_result"
    }
   ],
   "source": [
    "class Employee:\n",
    "    def __init__(self, full_name, **kwargs):\n",
    "        self.name = full_name.split()[0]\n",
    "        self.lastname = full_name.split()[1]\n",
    "        self.salary = kwargs.get('salary')\n",
    "        self.height = kwargs.get('height')\n",
    "        self.nationality = kwargs.get('nationality')\n",
    "        self.subordinates = kwargs.get('subordinates')\n",
    "        \n",
    "emp = Employee('Giancarlo Rossi', salary=115000, height=182, nationality='Italian')\n",
    "emp.nationality"
   ]
  },
  {
   "cell_type": "markdown",
   "metadata": {},
   "source": [
    "### Sum of Polygon Angles\n",
    "Given an n-sided regular polygon `n`, return the total sum of internal angles (in degrees)."
   ]
  },
  {
   "cell_type": "code",
   "execution_count": 23,
   "metadata": {},
   "outputs": [
    {
     "data": {
      "text/plain": [
       "900"
      ]
     },
     "execution_count": 23,
     "metadata": {},
     "output_type": "execute_result"
    }
   ],
   "source": [
    "def sum_polygon(n):\n",
    "    return (n - 2) * 180\n",
    "sum_polygon(7)"
   ]
  },
  {
   "cell_type": "markdown",
   "metadata": {},
   "source": [
    "### Sentence Searcher\n",
    "Create a function that returns the whole of the first sentence which contains a specific word. Include the full stop at the end of the sentence."
   ]
  },
  {
   "cell_type": "code",
   "execution_count": 24,
   "metadata": {},
   "outputs": [
    {
     "data": {
      "text/plain": [
       "'Things are going swell.'"
      ]
     },
     "execution_count": 24,
     "metadata": {},
     "output_type": "execute_result"
    }
   ],
   "source": [
    "def sentence_searcher(txt, word):\n",
    "    piece = [x for x in txt.split('. ') if word.lower() in x.lower()]\n",
    "    if piece:\n",
    "        if piece[0][-1] == '.':\n",
    "            return piece[0]\n",
    "        else:\n",
    "            return piece[0] + '.'\n",
    "    return \"\"\n",
    "\n",
    "txt = \"I have a cat. I have a mat. Things are going swell.\"\n",
    "sentence_searcher(txt, \"things\")"
   ]
  },
  {
   "cell_type": "markdown",
   "metadata": {},
   "source": [
    "### Neutralisation\n",
    "Given two strings comprised of `+` and `-`, return a new string which shows how the two strings interact in the following way:\n",
    "\n",
    "- When positives and positives interact, they remain positive.\n",
    "- When negatives and negatives interact, they remain negative.\n",
    "- But when negatives and positives interact, they become neutral, and are shown as the number `0`."
   ]
  },
  {
   "cell_type": "code",
   "execution_count": 25,
   "metadata": {},
   "outputs": [
    {
     "data": {
      "text/plain": [
       "'-+-+-+'"
      ]
     },
     "execution_count": 25,
     "metadata": {},
     "output_type": "execute_result"
    }
   ],
   "source": [
    "def neutralise(s1, s2):\n",
    "    neutral_dict = {'--': '-','+-': '0', '-+': '0','++': '+',}\n",
    "    zip_lst = zip(s1, s2)\n",
    "    return ''.join([neutral_dict.get(x[0] + x[1]) for x in zip_lst])\n",
    "\n",
    "neutralise(\"-+-+-+\", \"-+-+-+\")"
   ]
  },
  {
   "cell_type": "markdown",
   "metadata": {},
   "source": [
    "### Leaderboard Sort\n",
    "Given an array of users, each defined by an object with the following properties: name, score, reputation create a function that sorts the array to form the correct leaderboard.\n",
    "\n",
    "The leaderboard takes into consideration the score of each user of course, but an emphasis is put on their reputation in the community, so to get the trueScore, you should add the reputation multiplied by 2 to the score.\n",
    "\n",
    "Once you know the trueScore of each user, sort the array according to it in descending"
   ]
  },
  {
   "cell_type": "code",
   "execution_count": 26,
   "metadata": {},
   "outputs": [
    {
     "data": {
      "text/plain": [
       "[{'name': 'c', 'score': 115, 'reputation': 30},\n",
       " {'name': 'b', 'score': 90, 'reputation': 40},\n",
       " {'name': 'a', 'score': 100, 'reputation': 20}]"
      ]
     },
     "execution_count": 26,
     "metadata": {},
     "output_type": "execute_result"
    }
   ],
   "source": [
    "def leaderboards(users):\n",
    "    return sorted(users, key = lambda x: x['reputation'] * 2 + x['score'], reverse=True)\n",
    "\n",
    "leaderboards([\n",
    "    { 'name': 'a', 'score': 100, 'reputation': 20 },\n",
    "    { 'name': 'b', 'score': 90, 'reputation': 40 },\n",
    "    { 'name': 'c', 'score': 115, 'reputation': 30 },\n",
    "  ])"
   ]
  },
  {
   "cell_type": "markdown",
   "metadata": {},
   "source": [
    "### Remove the Computer Virus\n",
    "Your computer might have been infected by a virus! Create a function that finds the viruses in `files` and removes them from your computer."
   ]
  },
  {
   "cell_type": "code",
   "execution_count": 27,
   "metadata": {},
   "outputs": [
    {
     "data": {
      "text/plain": [
       "'PC Files: antivirus.exe, cat.pdf'"
      ]
     },
     "execution_count": 27,
     "metadata": {},
     "output_type": "execute_result"
    }
   ],
   "source": [
    "def remove_virus(files):\n",
    "    split_files = files.split()\n",
    "    new_lst = []\n",
    "    for x in split_files:\n",
    "        if ('virus' in x) and ('notvirus' not in x) and ('antivirus' not in x):\n",
    "            continue\n",
    "        elif ('malware' in x):\n",
    "            continue\n",
    "        else:\n",
    "            new_lst.append(x)\n",
    "    final_string = ' '.join(new_lst)\n",
    "    if final_string[-1] == ',':\n",
    "        return final_string[:-1]\n",
    "    elif final_string[-1] == ':':\n",
    "        return final_string + ' Empty'\n",
    "    else:\n",
    "        return final_string\n",
    "    \n",
    "remove_virus(\"PC Files: antivirus.exe, cat.pdf, lethalmalware.exe, dangerousvirus.exe \")"
   ]
  },
  {
   "cell_type": "markdown",
   "metadata": {},
   "source": [
    "### The Fifth Argument\n",
    "Create a function (named fifth) that takes some arguments and returns the type of the fifth argument. In case the arguments were less than 5, return `\"Not enough arguments\"`."
   ]
  },
  {
   "cell_type": "code",
   "execution_count": 29,
   "metadata": {},
   "outputs": [
    {
     "data": {
      "text/plain": [
       "list"
      ]
     },
     "execution_count": 29,
     "metadata": {},
     "output_type": "execute_result"
    }
   ],
   "source": [
    "def fifth(*args):\n",
    "    if len(args) < 5:\n",
    "        return 'Not enough arguments'\n",
    "    return type(args[4])\n",
    "\n",
    "fifth('a',2,3,4,[5])"
   ]
  },
  {
   "cell_type": "markdown",
   "metadata": {},
   "source": [
    "### Nearest Chapter\n",
    "\n",
    "Create a function that returns which chapter is **nearest** to the page you're on. If two chapters are equidistant, return the chapter with the **higher** page number."
   ]
  },
  {
   "cell_type": "code",
   "execution_count": 31,
   "metadata": {},
   "outputs": [
    {
     "data": {
      "text/plain": [
       "'The End?'"
      ]
     },
     "execution_count": 31,
     "metadata": {},
     "output_type": "execute_result"
    }
   ],
   "source": [
    "def nearest_chapter(chapt, page):\n",
    "    lst =sorted([(abs(page - v), k) for k, v in chapt.items()])\n",
    "    if lst[0][0] == lst[1][0]:\n",
    "        return lst[1][1]\n",
    "    else:\n",
    "        return lst[0][1]\n",
    "\n",
    "nearest_chapter({\"New Beginnings\" : 1, \"Strange Developments\" : 62, \"The End?\" : 194, \"The True Ending\" : 460}, 200)"
   ]
  },
  {
   "cell_type": "markdown",
   "metadata": {},
   "source": [
    "### Characters and ASCII Code Dictionary\n",
    "Write a function that transforms a list of characters into a list of dictionaries, where:\n",
    "\n",
    "1. The keys are the characters themselves.\n",
    "2. The values are the ASCII codes of those characters."
   ]
  },
  {
   "cell_type": "code",
   "execution_count": 33,
   "metadata": {},
   "outputs": [
    {
     "data": {
      "text/plain": [
       "[{'a': 97}, {'b': 98}, {'c': 99}]"
      ]
     },
     "execution_count": 33,
     "metadata": {},
     "output_type": "execute_result"
    }
   ],
   "source": [
    "def to_dict(lst):\n",
    "    return [{x:ord(x)} for x in lst]\n",
    "\n",
    "to_dict([\"a\", \"b\", \"c\"])"
   ]
  },
  {
   "cell_type": "markdown",
   "metadata": {},
   "source": [
    "### Jay and Bob\n",
    "\n",
    "Jay and Silent Bob have been given a fraction of an ounce but they only understand grams. Convert a fraction passed as a string to grams with up to two decimal places. An ounce weighs 28 grams."
   ]
  },
  {
   "cell_type": "code",
   "execution_count": 36,
   "metadata": {},
   "outputs": [
    {
     "data": {
      "text/plain": [
       "'3.5 grams'"
      ]
     },
     "execution_count": 36,
     "metadata": {},
     "output_type": "execute_result"
    }
   ],
   "source": [
    "def jay_and_bob(txt):\n",
    "    div_dict = {'half': 2, 'quarter': 4, 'eighth': 8, 'sixteenth': 16}\n",
    "    num = 28 / div_dict.get(txt)\n",
    "    if str(num)[-1] == '0':\n",
    "        return '{} grams'.format(int(num))\n",
    "    else:\n",
    "        return '{} grams'.format(num)\n",
    "\n",
    "jay_and_bob('eighth')"
   ]
  },
  {
   "cell_type": "markdown",
   "metadata": {},
   "source": [
    "### ing Extractor\n",
    "Write a function that takes a string as an argument and returns a list of all the words inflected by \"-ing\". Your function should also exclude all the mono-syllabic words ending in \"-ing\" (e.g. bing, sing, sling, ...). Although these words end in \"-ing\", the \"-ing\" is not an inflection affix."
   ]
  },
  {
   "cell_type": "code",
   "execution_count": 38,
   "metadata": {},
   "outputs": [
    {
     "data": {
      "text/plain": [
       "['feeling', 'killing', 'saying', 'discussing', 'FALLing']"
      ]
     },
     "execution_count": 38,
     "metadata": {},
     "output_type": "execute_result"
    }
   ],
   "source": [
    "def ing_extractor(string):\n",
    "    str_split = string.split()\n",
    "    vowels = 'aeiou'\n",
    "    new_lst = []\n",
    "    for word in str_split:\n",
    "        if word.lower()[-3:] == 'ing':\n",
    "            count = 0\n",
    "            for l in word.lower():\n",
    "                if l in vowels:\n",
    "                    count += 1\n",
    "            if count >= 2:\n",
    "                new_lst.append(word)\n",
    "    return new_lst\n",
    "\n",
    "ing_extractor(\"feeling killing saying discussing FALLing\")"
   ]
  },
  {
   "cell_type": "code",
   "execution_count": null,
   "metadata": {},
   "outputs": [],
   "source": []
  }
 ],
 "metadata": {
  "kernelspec": {
   "display_name": "Python 3",
   "language": "python",
   "name": "python3"
  },
  "language_info": {
   "codemirror_mode": {
    "name": "ipython",
    "version": 3
   },
   "file_extension": ".py",
   "mimetype": "text/x-python",
   "name": "python",
   "nbconvert_exporter": "python",
   "pygments_lexer": "ipython3",
   "version": "3.6.0"
  }
 },
 "nbformat": 4,
 "nbformat_minor": 4
}
