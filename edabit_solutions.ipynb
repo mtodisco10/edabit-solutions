{
 "cells": [
  {
   "cell_type": "markdown",
   "metadata": {},
   "source": [
    "# Edabit Solutions"
   ]
  },
  {
   "cell_type": "markdown",
   "metadata": {},
   "source": [
    "### Merge Lists in Order\n",
    "Given two lists, merge them to one list and sort the new list in the same order as the first list."
   ]
  },
  {
   "cell_type": "code",
   "execution_count": 5,
   "metadata": {},
   "outputs": [
    {
     "data": {
      "text/plain": [
       "[1, 2, 3, 4, 5, 6]"
      ]
     },
     "execution_count": 5,
     "metadata": {},
     "output_type": "execute_result"
    }
   ],
   "source": [
    "def merge_sort(lst1, lst2):\n",
    "    if lst1[0] > lst1[1]:\n",
    "        return sorted(lst1 + lst2, reverse=True)\n",
    "    else:\n",
    "        return sorted(lst1 + lst2)\n",
    "\n",
    "lst1 = [1, 2, 3]\n",
    "lst2= [5, 4, 6]\n",
    "merge_sort(lst1, lst2)"
   ]
  }
 ],
 "metadata": {
  "kernelspec": {
   "display_name": "Python 3",
   "language": "python",
   "name": "python3"
  },
  "language_info": {
   "codemirror_mode": {
    "name": "ipython",
    "version": 3
   },
   "file_extension": ".py",
   "mimetype": "text/x-python",
   "name": "python",
   "nbconvert_exporter": "python",
   "pygments_lexer": "ipython3",
   "version": "3.6.0"
  }
 },
 "nbformat": 4,
 "nbformat_minor": 4
}
