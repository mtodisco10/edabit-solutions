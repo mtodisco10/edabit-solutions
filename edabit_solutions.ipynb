{
 "cells": [
  {
   "cell_type": "markdown",
   "metadata": {},
   "source": [
    "# Edabit Solutions"
   ]
  },
  {
   "cell_type": "markdown",
   "metadata": {},
   "source": [
    "### Merge Lists in Order\n",
    "Given two lists, merge them to one list and sort the new list in the same order as the first list."
   ]
  },
  {
   "cell_type": "code",
   "execution_count": 5,
   "metadata": {},
   "outputs": [
    {
     "data": {
      "text/plain": [
       "[1, 2, 3, 4, 5, 6]"
      ]
     },
     "execution_count": 5,
     "metadata": {},
     "output_type": "execute_result"
    }
   ],
   "source": [
    "def merge_sort(lst1, lst2):\n",
    "    if lst1[0] > lst1[1]:\n",
    "        return sorted(lst1 + lst2, reverse=True)\n",
    "    else:\n",
    "        return sorted(lst1 + lst2)\n",
    "\n",
    "lst1 = [1, 2, 3]\n",
    "lst2= [5, 4, 6]\n",
    "merge_sort(lst1, lst2)"
   ]
  },
  {
   "cell_type": "markdown",
   "metadata": {},
   "source": [
    "### Burglary Series (03): Is It Gone?\n",
    "Your spouse is not concerned with the loss of material possessions but rather with his/her favorite pet. Is it gone?!\n",
    "\n",
    "Given a dictionary of the stolen items and a string in lower cases representing the name of the pet (e.g. \"rambo\"), return:\n",
    "\n",
    "\"Rambo is gone...\" if the name is on the list.\n",
    "\"Rambo is here!\" if the name is not on the list."
   ]
  },
  {
   "cell_type": "code",
   "execution_count": 6,
   "metadata": {},
   "outputs": [
    {
     "data": {
      "text/plain": [
       "'Rocky is here!'"
      ]
     },
     "execution_count": 6,
     "metadata": {},
     "output_type": "execute_result"
    }
   ],
   "source": [
    "def find_it(items, name):\n",
    "    if name in items.keys():\n",
    "        return '{} is gone...'.format(name.capitalize())\n",
    "    return '{} is here!'.format(name.capitalize())\n",
    "\n",
    "find_it({\"tv\": 30, \"stereo\": 50,}, \"rocky\")"
   ]
  },
  {
   "cell_type": "markdown",
   "metadata": {},
   "source": [
    "### Designing Rugs\n",
    "Write a function that accepts the width and height (m, n) and an optional proc s and generates a list with m elements."
   ]
  },
  {
   "cell_type": "code",
   "execution_count": 2,
   "metadata": {},
   "outputs": [
    {
     "data": {
      "text/plain": [
       "['$$$$$', '$$$$$', '$$$$$']"
      ]
     },
     "execution_count": 2,
     "metadata": {},
     "output_type": "execute_result"
    }
   ],
   "source": [
    "def make_rug(m, n, s='#'):\n",
    "    return [s * n] * m\n",
    "\n",
    "make_rug(3, 5, '$')"
   ]
  },
  {
   "cell_type": "markdown",
   "metadata": {},
   "source": [
    "### Operations\n",
    "Write a function that does the following things: adding, subtracting, dividing, or multiplying values. "
   ]
  },
  {
   "cell_type": "code",
   "execution_count": 2,
   "metadata": {},
   "outputs": [
    {
     "data": {
      "text/plain": [
       "'3'"
      ]
     },
     "execution_count": 2,
     "metadata": {},
     "output_type": "execute_result"
    }
   ],
   "source": [
    "def operation(a, b, op):\n",
    "    op_dict = {'add': '+', 'subtract':'-', 'multiply':'*', 'divide':'//'}\n",
    "    try:\n",
    "        return str(eval(a + op_dict[op] + b))\n",
    "    except:\n",
    "        return 'undefined'\n",
    "    \n",
    "operation(\"1\", \"2\", \"add\")"
   ]
  },
  {
   "cell_type": "markdown",
   "metadata": {},
   "source": [
    "### N-Length Letter Groups\n",
    "Write a function that returns a list of strings populated from the slices of n-length characters of the given word (a slice after another while n-length applies onto the word)."
   ]
  },
  {
   "cell_type": "code",
   "execution_count": 3,
   "metadata": {},
   "outputs": [
    {
     "data": {
      "text/plain": [
       "['ationa', 'interc', 'ntalis', 'ontine']"
      ]
     },
     "execution_count": 3,
     "metadata": {},
     "output_type": "execute_result"
    }
   ],
   "source": [
    "def collect(s, n):\n",
    "    slice_lst = []\n",
    "    for x in range(0, len(s) // n):\n",
    "        slice_lst.append(s[:n])\n",
    "        s = s[n:]\n",
    "    return sorted(slice_lst)\n",
    "\n",
    "collect(\"intercontinentalisationalism\", 6)"
   ]
  },
  {
   "cell_type": "markdown",
   "metadata": {},
   "source": [
    "## Syncopated Rhythm\n",
    "Syncopation means an emphasis on a weak beat of a bar of music; most commonly, beats 2 and 4 (and all other even-numbered beats if applicable).\n",
    "\n",
    "s is a line of music, represented as a string, where hashtags # represent emphasized beats. Create a function that returns if the line of music contains any syncopation."
   ]
  },
  {
   "cell_type": "code",
   "execution_count": 5,
   "metadata": {},
   "outputs": [
    {
     "data": {
      "text/plain": [
       "True"
      ]
     },
     "execution_count": 5,
     "metadata": {},
     "output_type": "execute_result"
    }
   ],
   "source": [
    "def has_syncopation(s):\n",
    "    return any([i % 2 == 1 and v == '#' for i, v in enumerate(s)])\n",
    "\n",
    "has_syncopation(\"#.#.###.\")"
   ]
  },
  {
   "cell_type": "markdown",
   "metadata": {},
   "source": [
    "### Meme Sum"
   ]
  },
  {
   "cell_type": "code",
   "execution_count": 5,
   "metadata": {},
   "outputs": [
    {
     "data": {
      "text/plain": [
       "31111013"
      ]
     },
     "execution_count": 5,
     "metadata": {},
     "output_type": "execute_result"
    }
   ],
   "source": [
    "def meme_sum(a, b):\n",
    "    a, b = str(a), str(b)\n",
    "    if len(a) > len(b):\n",
    "        b = '0' * (len(a) - len(b)) + b\n",
    "        zip_lst = list(zip(a, b))\n",
    "        return int(''.join([str(int(x[0]) + int(x[1])) for x in zip_lst]))\n",
    "    elif len(b) > len(a):\n",
    "        a = '0' * (len(b) - len(a)) + a\n",
    "        zip_lst = list(zip(a, b))\n",
    "        return int(''.join([str(int(x[0]) + int(x[1])) for x in zip_lst]))\n",
    "    else:\n",
    "        zip_lst = list(zip(a, b))\n",
    "        return int(''.join([str(int(x[0]) + int(x[1])) for x in zip_lst]))\n",
    "    \n",
    "meme_sum(1236, 30977)"
   ]
  },
  {
   "cell_type": "markdown",
   "metadata": {},
   "source": [
    "## Splitting Up Numbers\n",
    "Create a function that takes a number num and returns each place value in the number."
   ]
  },
  {
   "cell_type": "code",
   "execution_count": 4,
   "metadata": {},
   "outputs": [
    {
     "data": {
      "text/plain": [
       "[-400, -30, -4]"
      ]
     },
     "execution_count": 4,
     "metadata": {},
     "output_type": "execute_result"
    }
   ],
   "source": [
    "def num_split(num):\n",
    "    num_str = str(num)\n",
    "    num_lst = []\n",
    "    if num_str[0] == '-':\n",
    "        for x in range(1, len(num_str)):\n",
    "            num_lst.append('-' + num_str[x] + '0' * len(num_str[x+1:]))\n",
    "    else:\n",
    "        for x in range(0, len(num_str)):\n",
    "            num_lst.append(num_str[x] + '0' * len(num_str[x+1:]))\n",
    "\n",
    "    return [int(x) for x in num_lst]\n",
    "\n",
    "num_split(-434)"
   ]
  }
 ],
 "metadata": {
  "kernelspec": {
   "display_name": "Python 3",
   "language": "python",
   "name": "python3"
  },
  "language_info": {
   "codemirror_mode": {
    "name": "ipython",
    "version": 3
   },
   "file_extension": ".py",
   "mimetype": "text/x-python",
   "name": "python",
   "nbconvert_exporter": "python",
   "pygments_lexer": "ipython3",
   "version": "3.6.0"
  }
 },
 "nbformat": 4,
 "nbformat_minor": 4
}
