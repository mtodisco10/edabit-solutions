{
 "cells": [
  {
   "cell_type": "markdown",
   "id": "16767c3e",
   "metadata": {},
   "source": [
    "## Sort by Letters\n",
    "Write a function that sorts each string in a list by the letter in alphabetic ascending order `(a-z)`."
   ]
  },
  {
   "cell_type": "code",
   "execution_count": 3,
   "id": "09301358",
   "metadata": {},
   "outputs": [
    {
     "data": {
      "text/plain": [
       "['2344b', '932c', '832u32']"
      ]
     },
     "execution_count": 3,
     "metadata": {},
     "output_type": "execute_result"
    }
   ],
   "source": [
    "def sort_by_letter(lst):\n",
    "    letter_lst = []\n",
    "    for item in lst:\n",
    "        for x in item:\n",
    "            if x.isalpha():\n",
    "                letter_lst.append(x)\n",
    "    return [x[0] for x in sorted(zip(lst, letter_lst), key = lambda x: x[1])]\n",
    "\n",
    "sort_by_letter([\"932c\", \"832u32\", \"2344b\"])"
   ]
  }
 ],
 "metadata": {
  "kernelspec": {
   "display_name": "Python 3",
   "language": "python",
   "name": "python3"
  },
  "language_info": {
   "codemirror_mode": {
    "name": "ipython",
    "version": 3
   },
   "file_extension": ".py",
   "mimetype": "text/x-python",
   "name": "python",
   "nbconvert_exporter": "python",
   "pygments_lexer": "ipython3",
   "version": "3.6.0"
  }
 },
 "nbformat": 4,
 "nbformat_minor": 5
}
